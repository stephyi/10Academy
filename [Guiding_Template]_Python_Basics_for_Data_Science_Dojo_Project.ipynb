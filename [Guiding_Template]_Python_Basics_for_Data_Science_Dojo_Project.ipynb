{
  "nbformat": 4,
  "nbformat_minor": 0,
  "metadata": {
    "colab": {
      "name": "[Guiding Template] Python Basics for Data Science: Dojo Project",
      "provenance": [],
      "collapsed_sections": [],
      "toc_visible": true,
      "include_colab_link": true
    },
    "kernelspec": {
      "name": "python3",
      "display_name": "Python 3"
    }
  },
  "cells": [
    {
      "cell_type": "markdown",
      "metadata": {
        "id": "view-in-github",
        "colab_type": "text"
      },
      "source": [
        "<a href=\"https://colab.research.google.com/github/stephyi/10Academy/blob/master/%5BGuiding_Template%5D_Python_Basics_for_Data_Science_Dojo_Project.ipynb\" target=\"_parent\"><img src=\"https://colab.research.google.com/assets/colab-badge.svg\" alt=\"Open In Colab\"/></a>"
      ]
    },
    {
      "cell_type": "markdown",
      "metadata": {
        "id": "WAJeH2M78RA9",
        "colab_type": "text"
      },
      "source": [
        "# Python Basics for Data Science: Dojo Project"
      ]
    },
    {
      "cell_type": "markdown",
      "metadata": {
        "id": "TlR8s9608XeD",
        "colab_type": "text"
      },
      "source": [
        "**Problem Statement**\n",
        "\n",
        "ShippingtoMali, a shipping company, provides shipping to Mali for items bought on Amazon at a rate of `$4` for the first item and `$2` for each subsequent item with each of those items is also subject to import 10% tax. During this time, they also have a $10 discount for orders worth above `$500`.\n",
        "\n",
        "Write a python program that prints out how much one would spend for both purchase and shipping of the given items from the given data that is stored in the lists provided.\n",
        "\n",
        "**Notes** \n",
        "\n",
        "We will write two functions that will help provide a solution to this problem. \n",
        "\n",
        "* One function will iterate over the price list applying the respective tax and appending the result to the total_cost list.\n",
        "\n",
        "* The other function will take the number of items in an order as its only parameter then return the cost of shipping the function's result. This function would only display the shipping charge."
      ]
    },
    {
      "cell_type": "markdown",
      "metadata": {
        "id": "y9P0zA02TpnR",
        "colab_type": "text"
      },
      "source": [
        "### Our Solution"
      ]
    },
    {
      "cell_type": "code",
      "metadata": {
        "id": "O2Q7VRSR8JhZ",
        "colab_type": "code",
        "colab": {}
      },
      "source": [
        "# Defining our lists\n",
        "# ---\n",
        "#\n",
        "orders = ['item 1', 'item 2', 'item 3', 'item 4', 'item 5', 'item 6', 'item 7']\n",
        "price = [120, 32, 99, 49, 99, 75, 30.99]\n",
        "total_cost = []"
      ],
      "execution_count": null,
      "outputs": []
    },
    {
      "cell_type": "code",
      "metadata": {
        "id": "sxBGd87jRMFM",
        "colab_type": "code",
        "colab": {}
      },
      "source": [
        "# Step 1: Run this cell\n",
        "# ---\n",
        "# We create a function to determine the total cost of each item \n",
        "# and store the result in the total_cost list.\n",
        "# ---\n",
        "#\n",
        "def determine_total_cost():\n",
        "  for x in price:\n",
        "    total_cost.append(x * 1.10) "
      ],
      "execution_count": null,
      "outputs": []
    },
    {
      "cell_type": "code",
      "metadata": {
        "id": "zX8BJrvWRNvK",
        "colab_type": "code",
        "colab": {}
      },
      "source": [
        "# Step 2: Run this cell\n",
        "# ---\n",
        "# Let's execute our determine_total_cost function by calling it\n",
        "# ---\n",
        "#\n",
        "determine_total_cost()"
      ],
      "execution_count": null,
      "outputs": []
    },
    {
      "cell_type": "code",
      "metadata": {
        "id": "DGdyWum5RP8j",
        "colab_type": "code",
        "colab": {}
      },
      "source": [
        "# Step 3\n",
        "# ---\n",
        "# Create a function to determine the total cost of shipping\n",
        "# ---\n",
        "# Function Parameter: no_items \n",
        "# ---\n",
        "#\n",
        "YOUR CODE GOES HERE"
      ],
      "execution_count": null,
      "outputs": []
    },
    {
      "cell_type": "code",
      "metadata": {
        "id": "A65O_zFnRStx",
        "colab_type": "code",
        "colab": {}
      },
      "source": [
        "# Step 4\n",
        "# ---\n",
        "# Calculate the final total cost by summing our shipping and total cost.\n",
        "# ---\n",
        "# Hint: use sum() and len() function\n",
        "# ---\n",
        "#\n",
        "total_cost = YOUR CODE GOES HERE + shipping_cost(len(orders))"
      ],
      "execution_count": null,
      "outputs": []
    },
    {
      "cell_type": "code",
      "metadata": {
        "id": "2tlt3eRqRUhZ",
        "colab_type": "code",
        "colab": {}
      },
      "source": [
        "# Step 5\n",
        "# ---\n",
        "# Apply a discount through the use of an if statement\n",
        "# ---\n",
        "#\n",
        "if total_cost > YOUR CODE GOES HERE :\n",
        "  total_cost = total_cost - YOUR CODE GOES HERE"
      ],
      "execution_count": null,
      "outputs": []
    },
    {
      "cell_type": "code",
      "metadata": {
        "id": "-sNIJ2anSQ6y",
        "colab_type": "code",
        "colab": {}
      },
      "source": [
        "# Step 6\n",
        "# ---\n",
        "# Print out the total cost\n",
        "# ---\n",
        "#\n",
        "print(\"Total cost: USD\", YOUR CODE GOES HERE)"
      ],
      "execution_count": null,
      "outputs": []
    }
  ]
}