{
  "nbformat": 4,
  "nbformat_minor": 0,
  "metadata": {
    "colab": {
      "name": "Data Analysis and Reporting with Python - Guiding Notebook.ipynb",
      "provenance": [],
      "collapsed_sections": [
        "gLkzO7IdcA_r",
        "JABkWE3JcA_s",
        "8XxsPjnQcA_t",
        "SrzhnVvbcA_v",
        "IV0fyMl_cA_w",
        "rz5Qg2aocA_x",
        "jefIDLCVcA_z",
        "KD2a1jeccBEv"
      ],
      "toc_visible": true,
      "include_colab_link": true
    },
    "kernelspec": {
      "display_name": "Python 3",
      "language": "python",
      "name": "python3"
    },
    "language_info": {
      "codemirror_mode": {
        "name": "ipython",
        "version": 3
      },
      "file_extension": ".py",
      "mimetype": "text/x-python",
      "name": "python",
      "nbconvert_exporter": "python",
      "pygments_lexer": "ipython3",
      "version": "3.7.4"
    }
  },
  "cells": [
    {
      "cell_type": "markdown",
      "metadata": {
        "id": "view-in-github",
        "colab_type": "text"
      },
      "source": [
        "<a href=\"https://colab.research.google.com/github/stephyi/10Academy/blob/master/Data_Analysis_and_Reporting_with_Python_Guiding_Notebook.ipynb\" target=\"_parent\"><img src=\"https://colab.research.google.com/assets/colab-badge.svg\" alt=\"Open In Colab\"/></a>"
      ]
    },
    {
      "cell_type": "markdown",
      "metadata": {
        "id": "czJUgQ-6cA_p",
        "colab_type": "text"
      },
      "source": [
        "#  Data Analysis and Reporting with Python - Guiding Notebook"
      ]
    },
    {
      "cell_type": "markdown",
      "metadata": {
        "id": "gLkzO7IdcA_r",
        "colab_type": "text"
      },
      "source": [
        "## 1. Defining the Question"
      ]
    },
    {
      "cell_type": "markdown",
      "metadata": {
        "id": "JABkWE3JcA_s",
        "colab_type": "text"
      },
      "source": [
        "### a) Specifying the Data Analysis Question"
      ]
    },
    {
      "cell_type": "markdown",
      "metadata": {
        "id": "1sGZ56H7cA_t",
        "colab_type": "text"
      },
      "source": [
        "Our task is to come up with schools Jane can apply to which include the following criteria:\n",
        "- is in an urban/metropolitan area\n",
        "- is in a city that ranks 75th percentile or higher on Kauffman's startup rankings\n",
        "- be below 50th percentile in overall crime\n",
        "- offer a 2-year or 4-year degree in Information Technology/Science"
      ]
    },
    {
      "cell_type": "markdown",
      "metadata": {
        "id": "8XxsPjnQcA_t",
        "colab_type": "text"
      },
      "source": [
        "### b) Defining the Metric for Success"
      ]
    },
    {
      "cell_type": "markdown",
      "metadata": {
        "id": "100AFlNtcA_u",
        "colab_type": "text"
      },
      "source": [
        "We will have accomplished our objective if we get at least one school matching all the above-mentioned criteria."
      ]
    },
    {
      "cell_type": "markdown",
      "metadata": {
        "id": "SrzhnVvbcA_v",
        "colab_type": "text"
      },
      "source": [
        "### c) Understanding the Context"
      ]
    },
    {
      "cell_type": "markdown",
      "metadata": {
        "id": "ehi1alkgcA_v",
        "colab_type": "text"
      },
      "source": [
        "While applying for university, foreign student populations could greatly benefit from data and resources to support their wellbeing and success. Such students and families often lack information that is necessary to distinguish between their school options, access\n",
        "services, and identify affordable housing near the high-quality school and in safe neighbourhoods that have access to transit and employment.\n",
        "\n",
        "Jane is a 20-year-old high school graduate from Nigeria. She has recently completed her high school education and has decided to pursue a degree in Management Systems and Information Technology in the United States.\n",
        "\n",
        "She has approached your university recruiting agency and has tasked you to help her search for the best school for her. She is willing to relocate anywhere in the continental United States, but she has a few criteria that her ideal schools must satisfy:\n",
        "- safety (low crime)\n",
        "- urban : Jane wants to live the big city life\n",
        "- start-ups : the schol should be in a metropolitan area that ranks highly in entrepreneurialism (she plans to find an internship at a startup while she studies."
      ]
    },
    {
      "cell_type": "markdown",
      "metadata": {
        "id": "IV0fyMl_cA_w",
        "colab_type": "text"
      },
      "source": [
        "### d) Recording the Experimental Design"
      ]
    },
    {
      "cell_type": "markdown",
      "metadata": {
        "id": "2-crdiQgcA_x",
        "colab_type": "text"
      },
      "source": [
        "1. Load libraries and datasets.\n",
        "2. Select the most appropriate variables to work with.\n",
        "3. Find and deal with duplicated data.\n",
        "4. Find and deal with missing values.\n",
        "5. Drop data that does not match criteria, e.g., schools with \"distance only\" programs.\n",
        "6. Merge the dataframe on crimes to the dataframe with the college data based on location (city and state).\n",
        "7. Filter and select the schools with total crime rate below the 50th percentile.\n",
        "8. Filter and select the schools found only in Metropolitan State Areas.\n",
        "9. Filter and search for schools located in the 75th percentile or higher on the Kauffman Start-Up Index.\n",
        "10. Filter and select the schools that offer a 2-year or 4-year degree in Information Technology/Science."
      ]
    },
    {
      "cell_type": "markdown",
      "metadata": {
        "id": "rz5Qg2aocA_x",
        "colab_type": "text"
      },
      "source": [
        "### e) Data Relevance"
      ]
    },
    {
      "cell_type": "markdown",
      "metadata": {
        "id": "y3c-bdsRcA_y",
        "colab_type": "text"
      },
      "source": [
        "The given data sets were relevant in answering the research question."
      ]
    },
    {
      "cell_type": "markdown",
      "metadata": {
        "id": "jefIDLCVcA_z",
        "colab_type": "text"
      },
      "source": [
        "## 2. Data Cleaning & Analysis"
      ]
    },
    {
      "cell_type": "code",
      "metadata": {
        "colab_type": "code",
        "id": "jx0bMH04F0B5",
        "colab": {}
      },
      "source": [
        "# Loading the required libraries\n",
        "\n",
        "# Loading pandas\n",
        "YOUR CODE GOES HERE\n",
        "\n",
        "# Loading numpy\n",
        "YOUR CODE GOES HERE\n",
        "\n",
        "# To preview all rows and columns\n",
        "pd.set_option('display.max_columns', None)\n",
        "pd.set_option('display.max_rows', None)"
      ],
      "execution_count": null,
      "outputs": []
    },
    {
      "cell_type": "code",
      "metadata": {
        "colab_type": "code",
        "id": "K51WL3OCF1-0",
        "colab": {}
      },
      "source": [
        "# Connecting to Google drive to access data\n",
        "# We now load our dataset files to colab\n",
        "# There are many ways to do this...\n",
        "# You can use your method or alternatively do the \n",
        "# following if you have your files in google drive.\n",
        "# ---\n",
        "#\n",
        "\n",
        "from google.colab import drive\n",
        "drive.mount('/content/drive')"
      ],
      "execution_count": null,
      "outputs": []
    },
    {
      "cell_type": "code",
      "metadata": {
        "colab_type": "code",
        "id": "w0gA_iL2asUQ",
        "colab": {}
      },
      "source": [
        "# Setting the data access locations in Google drive\n",
        "\n",
        "# Setting our college scorecard dataset url\n",
        "data_set_url = '/content/drive/My Drive/Datascience/exercises-data-wrangling-exercise-1/CollegeScorecard.csv'\n",
        "\n",
        "# Setting our college scorecard dictionary url\n",
        "college_score_card_dictionary_url = '/content/drive/My Drive/Datascience/exercises-data-wrangling-exercise-1/CollegeScorecardDataDictionary-09-12-2015.csv'\n",
        "\n",
        "# Setting our crime dataset url\n",
        "crime_2015_url = '/content/drive/My Drive/Datascience/exercises-data-wrangling-exercise-1/Crime_2015.csv'\n",
        "\n",
        "# Setting our startup dataset url\n",
        "kauffman_startup_index_url = '/content/drive/My Drive/Datascience/exercises-data-wrangling-exercise-1/KaufmanIndexData/2017_Startup_Index_final.csv'"
      ],
      "execution_count": null,
      "outputs": []
    },
    {
      "cell_type": "code",
      "metadata": {
        "colab_type": "code",
        "id": "bL3nzNOsGN4u",
        "colab": {}
      },
      "source": [
        "# Loading our college scorecard dataset\n",
        "df = pd.read_csv(data_set_url)\n",
        "\n",
        "# Loading our college scorecard dictionary\n",
        "df_college_score_card_dictionary = pd.read_csv(college_score_card_dictionary_url)\n",
        "\n",
        "# Loading our crime dataset\n",
        "df_crime_2015 = pd.read_csv(crime_2015_url, thousands=\",\")\n",
        "\n",
        "# Loading our startup dataset\n",
        "df_kauffman_startup_index = pd.read_csv(kauffman_startup_index_url)"
      ],
      "execution_count": null,
      "outputs": []
    },
    {
      "cell_type": "code",
      "metadata": {
        "colab_type": "code",
        "id": "xNcUO9TmGQY9",
        "colab": {}
      },
      "source": [
        "# Previewing the first 5 records\n",
        "\n",
        "YOUR CODE GOES HERE"
      ],
      "execution_count": null,
      "outputs": []
    },
    {
      "cell_type": "code",
      "metadata": {
        "colab_type": "code",
        "id": "Rtk-KKTPLmmd",
        "colab": {}
      },
      "source": [
        "# Getting our dataset shape\n",
        "\n",
        "YOUR CODE GOES HERE"
      ],
      "execution_count": null,
      "outputs": []
    },
    {
      "cell_type": "code",
      "metadata": {
        "colab_type": "code",
        "id": "8lNBkI-OrR7C",
        "colab": {}
      },
      "source": [
        "# Looking for duplicates\n",
        "df.duplicated().sum()"
      ],
      "execution_count": null,
      "outputs": []
    },
    {
      "cell_type": "code",
      "metadata": {
        "colab_type": "code",
        "id": "FswqLt0-HmMD",
        "colab": {}
      },
      "source": [
        "# Checking the shape of the crime dataset\n",
        "\n",
        "YOUR CODE GOES HERE"
      ],
      "execution_count": null,
      "outputs": []
    },
    {
      "cell_type": "code",
      "metadata": {
        "colab_type": "code",
        "id": "y-Y_d6o7aHa_",
        "colab": {}
      },
      "source": [
        "# Previewing the first 5 records of the crime dataset\n",
        "\n",
        "YOUR CODE GOES HERE"
      ],
      "execution_count": null,
      "outputs": []
    },
    {
      "cell_type": "code",
      "metadata": {
        "colab_type": "code",
        "id": "6uuZbJSPz79W",
        "colab": {}
      },
      "source": [
        "# Looking for null values in the crime dataset\n",
        "\n",
        "YOUR CODE GOES HERE"
      ],
      "execution_count": null,
      "outputs": []
    },
    {
      "cell_type": "code",
      "metadata": {
        "colab_type": "code",
        "id": "1PoaRtRu0WMq",
        "colab": {}
      },
      "source": [
        "# A closer inspection of the observations with the missing 'City' values\n",
        "df_crime_2015[df_crime_2015['City'].isnull()]"
      ],
      "execution_count": null,
      "outputs": []
    },
    {
      "cell_type": "markdown",
      "metadata": {
        "colab_type": "text",
        "id": "EH49O71bfldp"
      },
      "source": [
        "From the college scorecard and crimes datasets, the common columns that will help us join these two dataframes are the CITY/STABBR columns in the college scorecard dataframes and the City/State columns in the crimes dataset. However, the City column in the crimes dataframe has some missing values so we have to fix this first before attempting a merger of the two dataframes"
      ]
    },
    {
      "cell_type": "code",
      "metadata": {
        "colab_type": "code",
        "id": "SyLGy5j_1RWq",
        "colab": {}
      },
      "source": [
        "# Fix null city values in crimes Dataframe\n",
        "# The appropriate city name can be deduced from the MSA Column\n",
        "# of each row entry among the rows having missing city names\n",
        "for index, row in df_crime_2015.iterrows():\n",
        "  if pd.isnull(row['City']):\n",
        "    df_crime_2015.loc[index, 'City'] = row['MSA'].split(',')[0]"
      ],
      "execution_count": null,
      "outputs": []
    },
    {
      "cell_type": "code",
      "metadata": {
        "colab_type": "code",
        "id": "NDoWcwwW2PKo",
        "colab": {}
      },
      "source": [
        "# Confirming that 'City' does not have any missing values\n",
        "\n",
        "YOUR CODE GOES HERE"
      ],
      "execution_count": null,
      "outputs": []
    },
    {
      "cell_type": "code",
      "metadata": {
        "colab_type": "code",
        "id": "xxpTK8mukeC0",
        "colab": {}
      },
      "source": [
        "# Checking the 'City' variable for duplicates\n",
        "df_crime_2015['City'].duplicated().sum()"
      ],
      "execution_count": null,
      "outputs": []
    },
    {
      "cell_type": "code",
      "metadata": {
        "colab_type": "code",
        "id": "FUAMRj25q-3r",
        "colab": {}
      },
      "source": [
        "# Removing duplicated rows from the crimes Dataframe\n",
        "\n",
        "YOUR CODE GOES HERE"
      ],
      "execution_count": null,
      "outputs": []
    },
    {
      "cell_type": "code",
      "metadata": {
        "colab_type": "code",
        "id": "DhhRiVlfIvit",
        "colab": {}
      },
      "source": [
        "# Previewing the Kauffman Startup Index dataset\n",
        "\n",
        "YOUR CODE GOES HERE"
      ],
      "execution_count": null,
      "outputs": []
    },
    {
      "cell_type": "code",
      "metadata": {
        "colab_type": "code",
        "id": "De_q7JirJPeM",
        "colab": {}
      },
      "source": [
        "# Selecting the important variables for Jane\n",
        "columns = [\n",
        "           'INSTNM',\n",
        "           'sch_deg',\n",
        "           'main',\n",
        "           'CURROPER',\n",
        "           'LONGITUDE',\n",
        "           'LATITUDE',\n",
        "           'CITY',\n",
        "           'STABBR',\n",
        "           'LOCALE',\n",
        "           'HIGHDEG',\n",
        "           'PREDDEG',\n",
        "           'CONTROL',\n",
        "           'faminc',\n",
        "           'md_faminc',\n",
        "           'faminc_ind',\n",
        "           'RET_FT4',\n",
        "           'RET_PT4',\n",
        "           'RET_PT4',\n",
        "           'RET_FTL4',\n",
        "           'RET_PTL4',\n",
        "           'COSTT4_A',\n",
        "           'COSTT4_P',\n",
        "           'TUITIONFEE_IN',\n",
        "           'TUITIONFEE_OUT',\n",
        "           'TUITIONFEE_PROG',\n",
        "           'CIP10BACHL',\n",
        "           'CIP11BACHL',\n",
        "           'CIP14BACHL',\n",
        "           'CIP15BACHL',\n",
        "           'CIP10ASSOC',\n",
        "           'CIP11ASSOC',\n",
        "           'CIP14ASSOC',\n",
        "           'CIP15ASSOC',\n",
        "           'DISTANCEONLY',\n",
        "           'PCIP10',\n",
        "           'PCIP11',\n",
        "           'PCIP14',\n",
        "           'PCIP15',\n",
        "           'TUITFTE',\n",
        "           'INEXPFTE',\n",
        "           'ADM_RATE',\n",
        "           'ADM_RATE_ALL',\n",
        "           'ACTCM25',\n",
        "           'ACTCM75',\n",
        "           'SAT_AVG_ALL',\n",
        "           'NPT4_PUB',\n",
        "           'NPT4_PRIV',\n",
        "           'median_hh_inc',\n",
        "           'C150_4',\n",
        "           'C150_L4'\n",
        "]\n"
      ],
      "execution_count": null,
      "outputs": []
    },
    {
      "cell_type": "code",
      "metadata": {
        "colab_type": "code",
        "id": "j7LTPK62ilUg",
        "colab": {}
      },
      "source": [
        "# Creating a dataframe called df_filtered which takes the above-listed columns from the df dataset\n",
        "\n",
        "df_filtered = pd.DataFrame(df[columns])"
      ],
      "execution_count": null,
      "outputs": []
    },
    {
      "cell_type": "code",
      "metadata": {
        "id": "F4-iMVYhcBA6",
        "colab_type": "code",
        "colab": {}
      },
      "source": [
        "# Previewing the first 5 records of the df_filtered dataset\n",
        "\n",
        "YOUR CODE GOES HERE"
      ],
      "execution_count": null,
      "outputs": []
    },
    {
      "cell_type": "code",
      "metadata": {
        "colab_type": "code",
        "id": "Y7xT70lcIAUp",
        "colab": {}
      },
      "source": [
        "# Checking the shape of our new dataset\n",
        "\n",
        "YOUR CODE GOES HERE"
      ],
      "execution_count": null,
      "outputs": []
    },
    {
      "cell_type": "code",
      "metadata": {
        "colab_type": "code",
        "id": "6oc9U8De9s7Y",
        "colab": {}
      },
      "source": [
        "# Checking the number of missing values\n",
        "\n",
        "YOUR CODE GOES HERE"
      ],
      "execution_count": null,
      "outputs": []
    },
    {
      "cell_type": "markdown",
      "metadata": {
        "colab_type": "text",
        "id": "Hr7jUoeOjYpn"
      },
      "source": [
        "What have you observed? What do you intend to do?"
      ]
    },
    {
      "cell_type": "code",
      "metadata": {
        "colab_type": "code",
        "id": "7RhtbnsiIyya",
        "colab": {}
      },
      "source": [
        "# Dropping columns with a hundred percent missing values\n",
        "\n",
        "YOUR CODE GOES HERE"
      ],
      "execution_count": null,
      "outputs": []
    },
    {
      "cell_type": "markdown",
      "metadata": {
        "colab_type": "text",
        "id": "CSetY2-Zj6xt"
      },
      "source": [
        "Jane wants to physically attend school in the United States and expereicence the big city life. Institutions that are regarded as distance only and which are not currently operating are therefore, out of the question for Jane and we have to exclude them from the Dataframe"
      ]
    },
    {
      "cell_type": "code",
      "metadata": {
        "colab_type": "code",
        "id": "Q5ma0ZnyB7gs",
        "colab": {}
      },
      "source": [
        "# Getting the distribution of the unique values in the 'DISTANCEONLY' column\n",
        "\n",
        "YOUR CODE GOES HERE"
      ],
      "execution_count": null,
      "outputs": []
    },
    {
      "cell_type": "code",
      "metadata": {
        "colab_type": "code",
        "id": "7-W0AbxYBD86",
        "colab": {}
      },
      "source": [
        "# Dropping all rows where DISTANCEONLY is set to 1 then drop the DISTANCEONLY column\n",
        "\n",
        "YOUR CODE GOES HERE"
      ],
      "execution_count": null,
      "outputs": []
    },
    {
      "cell_type": "code",
      "metadata": {
        "colab_type": "code",
        "id": "bld7FMhXgJ3k",
        "colab": {}
      },
      "source": [
        "# Dropping all rows where CURROPER is set to 0 then drop the CURROPER column\n",
        "\n",
        "YOUR CODE GOES HERE"
      ],
      "execution_count": null,
      "outputs": []
    },
    {
      "cell_type": "code",
      "metadata": {
        "colab_type": "code",
        "id": "uu0yv0l2hTWy",
        "colab": {}
      },
      "source": [
        "# Checking the dataset's shape\n",
        "\n",
        "YOUR CODE GOES HERE"
      ],
      "execution_count": null,
      "outputs": []
    },
    {
      "cell_type": "markdown",
      "metadata": {
        "colab_type": "text",
        "id": "cYarLTUolHIv"
      },
      "source": [
        "Before attempting a merger between the crimes dataframe and the college scorecard dataframe, we have to ensure that the city/state combinations across the two dataframes actually match. If a blind merger is done some entries in the college scorecard dataframe might end up having missing crime data probably because there was a typo in the way the city name was written in one of the datasets. To avoid this, we need the ability to determine if two city names refer to the same location."
      ]
    },
    {
      "cell_type": "code",
      "metadata": {
        "colab_type": "code",
        "id": "wGVQgpQjZgba",
        "colab": {}
      },
      "source": [
        "\"\"\"\n",
        "First, we extract all cities in the college scorecard dataframe that do not have an \n",
        "exact 100% match in the crimes dataframe and save them in a list for later use.\n",
        "\"\"\"\n",
        "def find_cities_without_exact_matches(df1, df2):\n",
        "  cities_without_match = []\n",
        "  for index, row in df1.iterrows():\n",
        "    if  row['CITY'] not in df2['City'].values:\n",
        "      cities_without_match.append(f\"{row['CITY']}, {row['STABBR']}\")\n",
        "  return cities_without_match    \n",
        "\n",
        "cities_without_match = find_cities_without_exact_matches(df_filtered, df_crime_2015)"
      ],
      "execution_count": null,
      "outputs": []
    },
    {
      "cell_type": "markdown",
      "metadata": {
        "colab_type": "text",
        "id": "Krd4grCxms60"
      },
      "source": [
        "To detect possibly matching cities across the cities that we found have no matching names in the crimes dataframe, we enlist the fuzzywuzzy module which has functionaliy that allows one to determine the extent to which two words or sentences are similar"
      ]
    },
    {
      "cell_type": "code",
      "metadata": {
        "colab_type": "code",
        "id": "tii31qIEms71",
        "colab": {}
      },
      "source": [
        "! pip install fuzzywuzzy[speedup]\n",
        "\n",
        "from fuzzywuzzy import process\n",
        "\n",
        "#utility function to determine the extent to which two words are similar\n",
        "def get_possible_matching_strings(input_list, search_against_list):\n",
        "  original = []\n",
        "  best_match = []\n",
        "  probability = []\n",
        "  similarities = {}\n",
        "  for x in input_list:\n",
        "    prediction = process.extractOne(x, search_against_list)\n",
        "    original.append(x)\n",
        "    best_match.append(prediction[0])\n",
        "    probability.append(prediction[1])\n",
        "  similarities['original'] = pd.Series(original)\n",
        "  similarities['best_match'] =  pd.Series(best_match)\n",
        "  similarities['probability'] = pd.Series(probability)\n",
        "  return pd.DataFrame(similarities)"
      ],
      "execution_count": null,
      "outputs": []
    },
    {
      "cell_type": "code",
      "metadata": {
        "colab_type": "code",
        "id": "79CW6kyjDzbm",
        "colab": {}
      },
      "source": [
        "# We prepare the search_against list which is among the inputs to the utility functions defined above\n",
        "city_state_combinations_in_crimes = []\n",
        "\n",
        "for index, row in df_crime_2015.iterrows():\n",
        "  city_state_combinations_in_crimes.append(f\"{row['City']}, {row['State']}\")"
      ],
      "execution_count": null,
      "outputs": []
    },
    {
      "cell_type": "code",
      "metadata": {
        "colab_type": "code",
        "id": "byd4PHqeC9Np",
        "colab": {}
      },
      "source": [
        "# We find cities that could possibly be referring to the same location\n",
        "\n",
        "df_similar_cities = get_possible_matching_strings(cities_without_match, city_state_combinations_in_crimes)\n",
        "df_similar_cities.reset_index(drop=True)\n"
      ],
      "execution_count": null,
      "outputs": []
    },
    {
      "cell_type": "code",
      "metadata": {
        "colab_type": "code",
        "id": "igD7r_ENtSW8",
        "colab": {}
      },
      "source": [
        "# We check the shape of the new generated city similarities dataframe\n",
        "\n",
        "YOUR CODE GOES HERE"
      ],
      "execution_count": null,
      "outputs": []
    },
    {
      "cell_type": "code",
      "metadata": {
        "colab_type": "code",
        "id": "q9L14yVerBzf",
        "colab": {}
      },
      "source": [
        "# We drop duplicates in the new generated city similarities dataframe\n",
        "\n",
        "YOUR CODE GOES HERE"
      ],
      "execution_count": null,
      "outputs": []
    },
    {
      "cell_type": "code",
      "metadata": {
        "colab_type": "code",
        "id": "U1DEt1zAtsGW",
        "colab": {}
      },
      "source": [
        "\"\"\"\n",
        "Rows with a probability match of 87 and above\n",
        "are the ones that provide the most promising\n",
        "matching city combinations from the crimes and \n",
        "college score board datasets\n",
        "\"\"\"\n",
        "df_most_promising_matches = df_similar_cities[df_similar_cities['probability'] >= 87].reset_index(drop=True)\n",
        "df_most_promising_matches"
      ],
      "execution_count": null,
      "outputs": []
    },
    {
      "cell_type": "code",
      "metadata": {
        "colab_type": "code",
        "id": "HrWLj98V9J7B",
        "colab": {}
      },
      "source": [
        "# Cities may have possibly matching names but yet be in\n",
        "# different states meaning that they are not refering to the\n",
        "# same location. we therefore, have to drop rows with mismatching states\n",
        "for index, row in df_most_promising_matches.iterrows():\n",
        "  if row['original'].split(\",\")[1] != row['best_match'].split(\",\")[1]:\n",
        "    df_most_promising_matches.drop(index, inplace=True)\n",
        "\n",
        "df_most_promising_matches.reset_index(drop=True)\n",
        "df_most_promising_matches"
      ],
      "execution_count": null,
      "outputs": []
    },
    {
      "cell_type": "markdown",
      "metadata": {
        "colab_type": "text",
        "id": "PTxZjJDhpYod"
      },
      "source": [
        "We now have the most promising city/state matches yet. However, some matches are still wrong and we need a way of eliminating the dataframe. We cannot do a blind deletion based on the probability values as this would also remove rows that have \"true\" matches too. Some human intervention will be required for this."
      ]
    },
    {
      "cell_type": "code",
      "metadata": {
        "colab_type": "code",
        "id": "AKoT3me8ulh1",
        "colab": {}
      },
      "source": [
        "\"\"\"\n",
        "The code below cycles through the rows of the dataframe with the most promising\n",
        "city/state combinations and asks the user whether to drop or keep an entry with\n",
        "a probability that is below 90%\n",
        "\"\"\"\n",
        "\n",
        "for index, row in df_most_promising_matches.iterrows():\n",
        "  if row['probability'] < 90:\n",
        "    action = input(f\"({row['original']} : {row['best_match']}). Keep/Drop?\")\n",
        "    if action == 'Drop':\n",
        "      df_most_promising_matches.drop(index, inplace=True)\n",
        "    elif action == 'Keep':\n",
        "      continue"
      ],
      "execution_count": null,
      "outputs": []
    },
    {
      "cell_type": "code",
      "metadata": {
        "colab_type": "code",
        "id": "EuX7mjy-wC4h",
        "colab": {}
      },
      "source": [
        "df_most_promising_matches.reset_index(drop=True)\n",
        "df_most_promising_matches.head()"
      ],
      "execution_count": null,
      "outputs": []
    },
    {
      "cell_type": "markdown",
      "metadata": {
        "colab_type": "text",
        "id": "PXIA-P2Frylh"
      },
      "source": [
        "For each entry in df_most_promising, we have to find a matching CITY/STABBR \n",
        "combinaition in df_filtered and replace the CITY value with the value contained\n",
        "in the best_match column of df_most promising. This will then allow us to merge the college scorecard \n",
        "dataframe with the crimes dataframe without loosing as much information as we would have lost if we had one a blind merger"
      ]
    },
    {
      "cell_type": "code",
      "metadata": {
        "colab_type": "code",
        "id": "uAOTmARlFFjn",
        "colab": {}
      },
      "source": [
        "\"\"\"\n",
        "We use a for loop to update city names in college scorecard dataframe\n",
        "\"\"\"\n",
        "for index, row in df_most_promising_matches.iterrows():\n",
        "  split_result = row['original'].split(',')\n",
        "  city = split_result[0].strip()\n",
        "  state = split_result[1].strip()\n",
        "  best_match = row['best_match'].split(',')[0]\n",
        "  print(f\"{city} : {state} : {best_match}\")\n",
        "  for index2, row2 in df_filtered.iterrows():\n",
        "    if row2['CITY'] == city and row2['STABBR'] == state:\n",
        "      df_filtered.loc[index2, 'CITY'] = best_match\n",
        "      print(f\"Updated {row2['CITY']} to {best_match}\")\n"
      ],
      "execution_count": null,
      "outputs": []
    },
    {
      "cell_type": "code",
      "metadata": {
        "colab_type": "code",
        "id": "NWtdbrVfzQ3b",
        "colab": {}
      },
      "source": [
        "# We now sample a record from the city of Columbus and from the state of Ohio\n",
        "\n",
        "YOUR CODE GOES HERE"
      ],
      "execution_count": null,
      "outputs": []
    },
    {
      "cell_type": "markdown",
      "metadata": {
        "colab_type": "text",
        "id": "EQSeACfTsHSF"
      },
      "source": [
        "Finally, we can do a merger of the college scorecard and crimes dataframes. We are using an inner join for this because \n",
        "this will include colleges located in Metropolitan\n",
        "State Areas with a record in the crimes dataframe. This allows \n",
        "us to filter the data by Metropolitan State Areas thus fullfilling\n",
        "Janes requirement to experience the big city life. The assumption here \n",
        "is that by having a record in the crimes dataset, the specified location\n",
        "is automatically a Metropolitan area as the crimes data was collected\n",
        "and aggregated per Metropolitan State area."
      ]
    },
    {
      "cell_type": "code",
      "metadata": {
        "colab_type": "code",
        "id": "OosKzuSDBQ7F",
        "colab": {}
      },
      "source": [
        "# Merging Crimes DataFrame with Schools DataFrame\n",
        "# create a dataset called 'df_with_crime_data' where you merge the 'df_filtered' dataset with the\n",
        "# 'df_crime_2015' dataset on 'CITY'/'City' and 'STABBR'/'State'\n",
        "# preview the 'df_with_crime_data' dataset\n",
        "# ---\n",
        "#\n",
        "df_with_crime_data = pd.merge(left=df_filtered, right=df_crime_2015, left_on=['CITY', 'STABBR'], right_on=['City', 'State'])\n",
        "df_with_crime_data.head()"
      ],
      "execution_count": null,
      "outputs": []
    },
    {
      "cell_type": "code",
      "metadata": {
        "colab_type": "code",
        "id": "EHdWmrD2DejZ",
        "colab": {}
      },
      "source": [
        "# Dropping duplicate city/state columns introduced by dataframe merger\n",
        "\n",
        "YOUR CODE GOES HERE"
      ],
      "execution_count": null,
      "outputs": []
    },
    {
      "cell_type": "code",
      "metadata": {
        "colab_type": "code",
        "id": "437noxnZiUub",
        "colab": {}
      },
      "source": [
        "# Checking the shape\n",
        "\n",
        "YOUR CODE GOES HERE"
      ],
      "execution_count": null,
      "outputs": []
    },
    {
      "cell_type": "code",
      "metadata": {
        "colab_type": "code",
        "id": "hRGV2S5RMG7b",
        "colab": {}
      },
      "source": [
        "# Checking the number of missing values\n",
        "\n",
        "YOUR CODE GOES HERE"
      ],
      "execution_count": null,
      "outputs": []
    },
    {
      "cell_type": "markdown",
      "metadata": {
        "colab_type": "text",
        "id": "X-yh-U3stb5L"
      },
      "source": [
        "The Kauffman Start-Up Index data has data depicting information about startup activity nationwide, per state and per Metropolitan State Area all jumbled up into one single dataset. We need to filter out all the noise and just remain with data containing information about startups for Metropolitan State Areas only as per Jane's requirements"
      ]
    },
    {
      "cell_type": "code",
      "metadata": {
        "colab_type": "code",
        "id": "yRaPf3kOaGpL",
        "colab": {}
      },
      "source": [
        "# Filtering Kauffman Start-Up data to remain with data for just the MSAs\n",
        "\n",
        "df_kauffman_startup_index_filtered = df_kauffman_startup_index[\n",
        "                                                               (df_kauffman_startup_index['Category'] == 'MSA')\n",
        "                                                               ].reset_index(drop=True)\n",
        "df_kauffman_startup_index_filtered.head()"
      ],
      "execution_count": null,
      "outputs": []
    },
    {
      "cell_type": "code",
      "metadata": {
        "colab_type": "code",
        "id": "UPr0hk9ijXdN",
        "colab": {}
      },
      "source": [
        "# Checking the shape\n",
        "\n",
        "YOUR CODE GOES HERE"
      ],
      "execution_count": null,
      "outputs": []
    },
    {
      "cell_type": "code",
      "metadata": {
        "colab_type": "code",
        "id": "LUNcmudujojr",
        "colab": {}
      },
      "source": [
        "# Previewing dataset info using info() method\n",
        "\n",
        "YOUR CODE GOES HERE"
      ],
      "execution_count": null,
      "outputs": []
    },
    {
      "cell_type": "markdown",
      "metadata": {
        "colab_type": "text",
        "id": "3-BBnwGPvdHu"
      },
      "source": [
        "The common columns between the Kauffman Start Up index data and our dataframe with crime data included are the location_name column in the kauffman dataframe and the MSA column introduced to our college scorecard dataframe by the merger with the crimes dataframe. Both these columns contain an entry for the name of the Metropolitan State Area for which the data was collected. From Kauffman data, we also have dataset that matches a Metropoliatan State Area code used to identify it and this code has been used as the value to the location column in the Kauffman start-up index. We can therefore merge the Kauffman dataframe with the new college scorecard dataframe using the MSA Code as value to use for the merger but we have to introduce this MSA Code to the college scorecard dataframe first."
      ]
    },
    {
      "cell_type": "code",
      "metadata": {
        "colab_type": "code",
        "id": "LsQt2exStekw",
        "colab": {}
      },
      "source": [
        "# Extracting the MSA names from the new college scorecard dataframe with crime data included\n",
        "# ---\n",
        "#\n",
        "df_with_crime_data_msas = df_with_crime_data['MSA'].unique()"
      ],
      "execution_count": null,
      "outputs": []
    },
    {
      "cell_type": "code",
      "metadata": {
        "colab_type": "code",
        "id": "d4tkjkz3NqgP",
        "colab": {}
      },
      "source": [
        "# Loading the dataset containing MSA names and their matching codes as per Kauffman dataset\n",
        "# NB: During this step, we can also use other\n",
        "# ---\n",
        "#\n",
        "msa_codes_url = '/content/drive/My Drive/Datascience/exercises-data-wrangling-exercise-1/KaufmanIndexData/MSAcodes.csv'\n",
        "df_msa_codes = pd.read_csv(msa_codes_url)"
      ],
      "execution_count": null,
      "outputs": []
    },
    {
      "cell_type": "code",
      "metadata": {
        "colab_type": "code",
        "id": "1CPgy0pnFxBn",
        "colab": {}
      },
      "source": [
        "# Previewing the 'df_msa_codes' dataset\n",
        "YOUR CODE GOES HERE"
      ],
      "execution_count": null,
      "outputs": []
    },
    {
      "cell_type": "code",
      "metadata": {
        "colab_type": "code",
        "id": "RJHTinAzFo2x",
        "colab": {}
      },
      "source": [
        "# Removing apostrophes (') in the MSA Name column\n",
        "df_msa_codes['MSA Name'] = df_msa_codes['MSA Name'].apply(lambda row: row.strip(\"'\"))"
      ],
      "execution_count": null,
      "outputs": []
    },
    {
      "cell_type": "code",
      "metadata": {
        "colab_type": "code",
        "id": "liwP25lSOMjO",
        "colab": {}
      },
      "source": [
        "# Previewing the 'df_msa_codes' dataset\n",
        "\n",
        "YOUR CODE GOES HERE"
      ],
      "execution_count": null,
      "outputs": []
    },
    {
      "cell_type": "code",
      "metadata": {
        "colab_type": "code",
        "id": "3uPI-6JNr-DA",
        "colab": {}
      },
      "source": [
        "\"\"\"\n",
        "We then use the utility function created earlier to find possibly matching MSA names\n",
        "between the MSA column in our new college scorecard dataframe and the loaded MSA_name/code\n",
        "dataframe as per Kauffman. Doing this will allow us to add MSA Codes to our college scorecard dataframe\n",
        "that will then be used to merge the dataframe with the kauffman startup index dataframe.\n",
        "\"\"\"\n",
        "possibly_matching_MSAs = get_possible_matching_strings(df_with_crime_data_msas, df_msa_codes['MSA Name'])"
      ],
      "execution_count": null,
      "outputs": []
    },
    {
      "cell_type": "code",
      "metadata": {
        "colab_type": "code",
        "id": "k1y6vXNiugGi",
        "colab": {}
      },
      "source": [
        "# Showing the output of 'possibly_matching_MSAs' / previewing"
      ],
      "execution_count": null,
      "outputs": []
    },
    {
      "cell_type": "code",
      "metadata": {
        "colab_type": "code",
        "id": "LizNpU5Mlvmr",
        "colab": {}
      },
      "source": [
        "\"\"\"\n",
        "Load manually matched city MSA codes\n",
        "---\n",
        "The above match between df_with_crime_data_msas dataset and df_msas \n",
        "as per the kauffman index dataset results in possibly matching MSAs\n",
        "but which have a low probability value for a match. This therefore requires \n",
        "manual intervention and as a result, a csv was created to specifically match\n",
        "this MSAs. The created csv is the one being loaded below.\n",
        "\"\"\"\n",
        "manual_msa_codes_url = '/content/drive/My Drive/Datascience/exercises-data-wrangling-exercise-1/KaufmanIndexData/manually_matched_msa_codes.csv'\n",
        "df_manual_msa_codes = pd.read_csv(manual_msa_codes_url)\n",
        "df_manual_msa_codes"
      ],
      "execution_count": null,
      "outputs": []
    },
    {
      "cell_type": "code",
      "metadata": {
        "colab_type": "code",
        "id": "vNusIj7Fm2kI",
        "colab": {}
      },
      "source": [
        "final_possibly_matching_MSAs = pd.concat([possibly_matching_MSAs, df_manual_msa_codes], axis=0).reset_index(drop=True)\n"
      ],
      "execution_count": null,
      "outputs": []
    },
    {
      "cell_type": "code",
      "metadata": {
        "colab_type": "code",
        "id": "9eamiKk_ob7e",
        "colab": {}
      },
      "source": [
        "final_possibly_matching_MSAs"
      ],
      "execution_count": null,
      "outputs": []
    },
    {
      "cell_type": "code",
      "metadata": {
        "colab_type": "code",
        "id": "c6cXcWd1AkB4",
        "colab": {}
      },
      "source": [
        "# Creating a column called 'MSA_Code' in the 'df_with_crime_data' and populate it with null values\n",
        "# this will contain the MSA codes for each entry in the college scorecard dataframe with crime \n",
        "# data included\n",
        "\n",
        "df_with_crime_data['MSA_Code'] = np.nan"
      ],
      "execution_count": null,
      "outputs": []
    },
    {
      "cell_type": "code",
      "metadata": {
        "colab_type": "code",
        "id": "SQphE_D_BDdB",
        "colab": {}
      },
      "source": [
        "\"\"\"\n",
        "Anything with a probability greater than 90\n",
        "can be safely assumed to be an adequate match\n",
        "we therefore include those MSA Codes to the \n",
        "df_with_crime_data without furthher inspection\n",
        "\"\"\"\n",
        "for index, row in final_possibly_matching_MSAs.iterrows():\n",
        "  if row['probability'] >=90:\n",
        "    code = df_msa_codes.loc[df_msa_codes['MSA Name'] == row['best_match'], 'MSA Code'].iloc[0]\n",
        "    if row['original'] in df_with_crime_data['MSA'].values:\n",
        "      df_with_crime_data.loc[df_with_crime_data['MSA'] == row['original'], 'MSA_Code'] = code\n"
      ],
      "execution_count": null,
      "outputs": []
    },
    {
      "cell_type": "code",
      "metadata": {
        "colab_type": "code",
        "id": "kQhZb_sgCv8w",
        "colab": {}
      },
      "source": [
        "# Previewing a sample of 10 records from the 'df_with_crime_data' dataset\n",
        "\n",
        "YOUR CODE GOES HERE"
      ],
      "execution_count": null,
      "outputs": []
    },
    {
      "cell_type": "code",
      "metadata": {
        "colab_type": "code",
        "id": "bqr9aIdLNZzv",
        "colab": {}
      },
      "source": [
        "# Checking the sum of missing values\n",
        "\n",
        "YOUR CODE GOES HERE"
      ],
      "execution_count": null,
      "outputs": []
    },
    {
      "cell_type": "code",
      "metadata": {
        "colab_type": "code",
        "id": "74eRFYY6uBUT",
        "colab": {}
      },
      "source": [
        "# Getting records whose 'MSA_Code' is equal to 47260\n",
        "\n",
        "YOUR CODE GOES HERE"
      ],
      "execution_count": null,
      "outputs": []
    },
    {
      "cell_type": "code",
      "metadata": {
        "colab_type": "code",
        "id": "jTJWCamkAC6B",
        "colab": {}
      },
      "source": [
        "# Filtering the Kauffman Startup Index dataset to show values with MSA as their Caregory and of Metro Profile dataset \n",
        "df_kauffman_startup_index_filtered_by_msa = df_kauffman_startup_index[(df_kauffman_startup_index['Category'] == 'MSA') &\n",
        "                                                                      (df_kauffman_startup_index['dataset'] == 'Metro Profile')]\n",
        "df_kauffman_startup_index_filtered_by_msa"
      ],
      "execution_count": null,
      "outputs": []
    },
    {
      "cell_type": "code",
      "metadata": {
        "colab_type": "code",
        "id": "85I1zQ0uCbVt",
        "colab": {}
      },
      "source": [
        "df_kauffman_startup_index_filtered_by_msa.dtypes"
      ],
      "execution_count": null,
      "outputs": []
    },
    {
      "cell_type": "markdown",
      "metadata": {
        "colab_type": "text",
        "id": "Th9CkXaV00_a"
      },
      "source": [
        "The rows in the Kauffman Start Up index contain entries across a range of years, some entries go back to the 1980s. This past information wont be of much help as we are assuming that Jane's concern is current status of start-up activity in the MSAs within which the universities/colleges we are to propose to her reside. We will therefore select only the latest record for each MSA in the Kauffman start-up index and use the 'Index Year' column as the filtering column."
      ]
    },
    {
      "cell_type": "code",
      "metadata": {
        "colab_type": "code",
        "id": "kAvsdVEWBBks",
        "colab": {}
      },
      "source": [
        "\"\"\"\n",
        "Group by location name and extract the row with latest Index year\n",
        "\"\"\"\n",
        "df_kauffman_startup_index_filtered_by_latest_index_year = df_kauffman_startup_index_filtered_by_msa.iloc[\n",
        "                                               df_kauffman_startup_index_filtered_by_msa.reset_index(drop=True).groupby(['Location_name'])['Index Year'].idxmax()\n",
        "                                               ]"
      ],
      "execution_count": null,
      "outputs": []
    },
    {
      "cell_type": "code",
      "metadata": {
        "colab_type": "code",
        "id": "ExWUP-BrAAY1",
        "colab": {}
      },
      "source": [
        "df_kauffman_startup_index_filtered_by_latest_index_year.head()"
      ],
      "execution_count": null,
      "outputs": []
    },
    {
      "cell_type": "markdown",
      "metadata": {
        "colab_type": "text",
        "id": "cDHguORzCUlP"
      },
      "source": [
        "To match a college to a record on the kauffman startup index,\n",
        "we will use the MSA_Code column in the df_with_crimes_dataset\n",
        "and use a matching location value in the kauffman startup index dataset.\n"
      ]
    },
    {
      "cell_type": "code",
      "metadata": {
        "colab_type": "code",
        "id": "dk8SYvvGidwD",
        "colab": {}
      },
      "source": [
        "\"\"\"\n",
        "merge df_with_crime_data\n",
        "with df_kauffman_startup_index\n",
        "using the MSA_Code as the linking column\n",
        "\"\"\"\n",
        "final_df = pd.merge(left=df_with_crime_data, right=df_kauffman_startup_index_filtered_by_latest_index_year, left_on=['MSA_Code'], right_on=['Location'])\n"
      ],
      "execution_count": null,
      "outputs": []
    },
    {
      "cell_type": "code",
      "metadata": {
        "colab_type": "code",
        "id": "3QOXT3_jM-WQ",
        "colab": {}
      },
      "source": [
        "# Previewing final_df\n",
        "\n",
        "YOUR CODE GOES HERE"
      ],
      "execution_count": null,
      "outputs": []
    },
    {
      "cell_type": "code",
      "metadata": {
        "colab_type": "code",
        "id": "KKUtuQ0YNSE7",
        "colab": {}
      },
      "source": [
        "# Checking the number of missing values in the final_df column\n",
        "\n",
        "YOUR CODE GOES HERE"
      ],
      "execution_count": null,
      "outputs": []
    },
    {
      "cell_type": "code",
      "metadata": {
        "colab_type": "code",
        "id": "MwpzdHBwAxOj",
        "colab": {}
      },
      "source": [
        "# Checking shape\n",
        "\n",
        "YOUR CODE GOES HERE"
      ],
      "execution_count": null,
      "outputs": []
    },
    {
      "cell_type": "code",
      "metadata": {
        "colab_type": "code",
        "id": "deB04H9DNfLO",
        "colab": {}
      },
      "source": [
        "# Dropping columns with 100% null values after merger\n",
        "columns_to_drop = [\n",
        "        'Composition_of_New_Entrp',\n",
        "        'startup_index',\n",
        "        'Breakdown',\n",
        "        'Characteristic',\n",
        "        'LONGITUDE', \n",
        "        'LATITUDE',        \n",
        "]\n",
        "\n",
        "# Dropping these columns from the final_df dataset using axis = 1 and inplace = True\n",
        "\n",
        "YOUR CODE GOES HERE"
      ],
      "execution_count": null,
      "outputs": []
    },
    {
      "cell_type": "code",
      "metadata": {
        "colab_type": "code",
        "id": "gMbPq-FCYnXX",
        "colab": {}
      },
      "source": [
        "# Listing your the dataset's columns\n",
        "\n",
        "YOUR CODE GOES HERE"
      ],
      "execution_count": null,
      "outputs": []
    },
    {
      "cell_type": "markdown",
      "metadata": {
        "colab_type": "text",
        "id": "yNfOH6upEPG1"
      },
      "source": [
        "As per Jane's requirements, She wants a college/University located in an MSA that ranks 75th percentile or higher on the Kauffman startup index."
      ]
    },
    {
      "cell_type": "code",
      "metadata": {
        "colab_type": "code",
        "id": "ZFx8x7Bjz6jb",
        "colab": {}
      },
      "source": [
        "# Ranking based on Start Up \n",
        "# ---\n",
        "#\n",
        "YOUR CODE GOES HERE"
      ],
      "execution_count": null,
      "outputs": []
    },
    {
      "cell_type": "code",
      "metadata": {
        "colab_type": "code",
        "id": "DJggjScM4Vk3",
        "colab": {}
      },
      "source": [
        "# Drop all rows with a Start up ranking below 0.75\n",
        "# ---\n",
        "#\n",
        "final_df.drop(final_df[final_df['Ranking_Start_up'] < 0.75].index, inplace=True)\n"
      ],
      "execution_count": null,
      "outputs": []
    },
    {
      "cell_type": "code",
      "metadata": {
        "colab_type": "code",
        "id": "Rzf5qoKo5IGk",
        "colab": {}
      },
      "source": [
        "# Print the minimum value of the 'Ranking_Start_up variable'\n",
        "\n",
        "YOUR CODE GOES HERE"
      ],
      "execution_count": null,
      "outputs": []
    },
    {
      "cell_type": "code",
      "metadata": {
        "colab_type": "code",
        "id": "eIEb34l_XYil",
        "colab": {}
      },
      "source": [
        "# Preview final_df where the 'Ranking_Start_up' is equal to the maximum value in that column\n",
        "\n",
        "YOUR CODE GOES HERE"
      ],
      "execution_count": null,
      "outputs": []
    },
    {
      "cell_type": "markdown",
      "metadata": {
        "colab_type": "text",
        "id": "wHQ_TULOC5r1"
      },
      "source": [
        "To get a measure of the total crime per MSA, we then sum all crime and create a new column labeled Total_Crime that will contain this sum. We then rank the rows in the final df based on total crime and drop all rows with a ranking above 50% satisfying Jane's condition of a college/University in a location having below 50th percentile in overall crime."
      ]
    },
    {
      "cell_type": "code",
      "metadata": {
        "colab_type": "code",
        "id": "adK3fv5oY-OM",
        "colab": {}
      },
      "source": [
        "final_df['Total_Crime'] = final_df.apply(\n",
        "    lambda row: row['ViolentCrime'] + row['Murder'] + row['Rape'] + row['Robbery'] + row['AggravatedAssault'] + row['PropertyCrime'] + row['Burglary'] + row['Theft'] + row['MotorVehicleTheft'],\n",
        "    axis=1\n",
        "    )"
      ],
      "execution_count": null,
      "outputs": []
    },
    {
      "cell_type": "code",
      "metadata": {
        "colab_type": "code",
        "id": "kc46bhJFsL_C",
        "colab": {}
      },
      "source": [
        "# Preview the dataset\n",
        "\n",
        "YOUR CODE GOES HERE"
      ],
      "execution_count": null,
      "outputs": []
    },
    {
      "cell_type": "markdown",
      "metadata": {
        "colab_type": "text",
        "id": "UfC8NIidDSek"
      },
      "source": [
        "As"
      ]
    },
    {
      "cell_type": "code",
      "metadata": {
        "colab_type": "code",
        "id": "jRxrXhQ5uCi6",
        "colab": {}
      },
      "source": [
        "# Get the maximum total crime rate\n",
        "\n",
        "YOUR CODE GOES HERE"
      ],
      "execution_count": null,
      "outputs": []
    },
    {
      "cell_type": "code",
      "metadata": {
        "colab_type": "code",
        "id": "cqpl3vkK5hcC",
        "colab": {}
      },
      "source": [
        "# Sort by ranking\n",
        "final_df['Ranking_by_Crime_Rate'] = final_df['Total_Crime'].rank(pct=True)"
      ],
      "execution_count": null,
      "outputs": []
    },
    {
      "cell_type": "code",
      "metadata": {
        "colab_type": "code",
        "id": "YjVV1HiM6Hyi",
        "colab": {}
      },
      "source": [
        "# Preview the records where the 'Total_Crime' is at minimum\n",
        "\n",
        "YOUR CODE GOES HERE"
      ],
      "execution_count": null,
      "outputs": []
    },
    {
      "cell_type": "code",
      "metadata": {
        "colab_type": "code",
        "id": "zlgSd6dh678c",
        "colab": {}
      },
      "source": [
        "# Drop all rows with above 50% overall crime ranking\n",
        "\n",
        "YOUR CODE GOES HERE"
      ],
      "execution_count": null,
      "outputs": []
    },
    {
      "cell_type": "code",
      "metadata": {
        "colab_type": "code",
        "id": "r5YYY4gs7UVP",
        "colab": {}
      },
      "source": [
        "# Get the maximum 'Ranking_by_Crime_Rate' value"
      ],
      "execution_count": null,
      "outputs": []
    },
    {
      "cell_type": "code",
      "metadata": {
        "colab_type": "code",
        "id": "wE7gOHON7d09",
        "colab": {}
      },
      "source": [
        "final_df"
      ],
      "execution_count": null,
      "outputs": []
    },
    {
      "cell_type": "code",
      "metadata": {
        "colab_type": "code",
        "id": "KKhtYkLh7l3Y",
        "colab": {}
      },
      "source": [
        "final_df.shape"
      ],
      "execution_count": null,
      "outputs": []
    },
    {
      "cell_type": "markdown",
      "metadata": {
        "colab_type": "text",
        "id": "ge0RHUHcHQGh"
      },
      "source": [
        "Jane also wants a college/university offering a 2-year or 4-year degree in Information Technology/Science. courses related to Jane's required field of study are identified by CIP11[ASSOC, BACHL] columns. within this columns a value of 0 indicates that the courses in those categories are not offered at all, a value of 1 indicates the course is available and a value of 2 indicates that the course is available but only as a distance learning option. Since Jane wants to be physically attend a college/university and persue her field of study, we will discard all rows with a 0 and a 2 in the CIP11ASSOC, CIP11BACHL columns\n"
      ]
    },
    {
      "cell_type": "code",
      "metadata": {
        "colab_type": "code",
        "id": "SquiwPHsf4GV",
        "colab": {}
      },
      "source": [
        "final_df.drop(final_df[final_df['CIP11ASSOC'] != 1.0].index, inplace=True)\n",
        "final_df.drop(final_df[final_df['CIP11BACHL'] != 1.0].index, inplace=True)"
      ],
      "execution_count": null,
      "outputs": []
    },
    {
      "cell_type": "code",
      "metadata": {
        "colab_type": "code",
        "id": "3IYf8GOLgNLS",
        "colab": {}
      },
      "source": [
        "final_df.shape"
      ],
      "execution_count": null,
      "outputs": []
    },
    {
      "cell_type": "code",
      "metadata": {
        "colab_type": "code",
        "id": "YSR3BNBzjJXG",
        "colab": {}
      },
      "source": [
        "final_df"
      ],
      "execution_count": null,
      "outputs": []
    },
    {
      "cell_type": "code",
      "metadata": {
        "colab_type": "code",
        "id": "bT-5xnidjuiG",
        "colab": {}
      },
      "source": [
        "final_df.isnull().sum()"
      ],
      "execution_count": null,
      "outputs": []
    },
    {
      "cell_type": "markdown",
      "metadata": {
        "colab_type": "text",
        "id": "rELWbfnBI-zk"
      },
      "source": [
        "Finally, to get the college/university that meets all of Jane's requirements and is also relatively cheap as compared to other universities/colleges that meet Jane's requirements, we then rank the final dataframe based on tuition fee"
      ]
    },
    {
      "cell_type": "code",
      "metadata": {
        "colab_type": "code",
        "id": "8mGR1E7ykGOA",
        "colab": {}
      },
      "source": [
        "# Ranking the final dataframe based on tuition fee\n",
        "# ---\n",
        "#"
      ],
      "execution_count": null,
      "outputs": []
    },
    {
      "cell_type": "code",
      "metadata": {
        "colab_type": "code",
        "id": "GTro8qb3ky5i",
        "colab": {}
      },
      "source": [
        "# Select all records where the 'Rank_based_tuition_fee' is equal to 1, 2 and 3\n",
        "\n",
        "YOUR CODE GOES HERE"
      ],
      "execution_count": null,
      "outputs": []
    },
    {
      "cell_type": "markdown",
      "metadata": {
        "id": "KD2a1jeccBEv",
        "colab_type": "text"
      },
      "source": [
        "### 3. Summary of Findings"
      ]
    },
    {
      "cell_type": "markdown",
      "metadata": {
        "colab_type": "text",
        "id": "hZn1-mFnKDp8"
      },
      "source": [
        "What are your findings?"
      ]
    }
  ]
}