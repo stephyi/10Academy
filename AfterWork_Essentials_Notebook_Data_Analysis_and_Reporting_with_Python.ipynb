{
  "nbformat": 4,
  "nbformat_minor": 0,
  "metadata": {
    "colab": {
      "name": "AfterWork_Essentials_Notebook_Data_Analysis_and_Reporting_with_Python",
      "provenance": [],
      "collapsed_sections": [
        "p5-vSSK2YRvv",
        "AKFUFX9oYYlz",
        "K7XZ0lfDZSfE",
        "vjKU2wFjYseF",
        "mcBYkd2dZeRm",
        "amveijHvZqGL",
        "InG0BnDgYxUo",
        "JFmLS0JcZfyU",
        "4S6nBEpDZq6E",
        "mxCkESI_ZA5A",
        "iDnNGL-mZhJ9",
        "qP3PtIAAZsBG",
        "YC9AVuitZFD8",
        "UxbUs5stZiZs",
        "1mUNWEtSZsi9",
        "MojDFr9UZH05",
        "iPIq_mwkZjUS",
        "sWGVGLXeZtLH",
        "6XZbcORGZLd0",
        "q9c7In767vRZ"
      ],
      "toc_visible": true,
      "include_colab_link": true
    },
    "kernelspec": {
      "name": "python3",
      "display_name": "Python 3"
    }
  },
  "cells": [
    {
      "cell_type": "markdown",
      "metadata": {
        "id": "view-in-github",
        "colab_type": "text"
      },
      "source": [
        "<a href=\"https://colab.research.google.com/github/stephyi/10Academy/blob/master/AfterWork_Essentials_Notebook_Data_Analysis_and_Reporting_with_Python.ipynb\" target=\"_parent\"><img src=\"https://colab.research.google.com/assets/colab-badge.svg\" alt=\"Open In Colab\"/></a>"
      ]
    },
    {
      "cell_type": "markdown",
      "metadata": {
        "id": "AEqsCbeuYNMH",
        "colab_type": "text"
      },
      "source": [
        "<font color=\"blue\">To use this notebook on Colaboratory, you will need to make a copy of it. Go to File > Save a Copy in Drive. You can then use the new copy that will appear in the new tab.</font>\n"
      ]
    },
    {
      "cell_type": "markdown",
      "metadata": {
        "id": "AzLPOliHYP0V",
        "colab_type": "text"
      },
      "source": [
        "# Essentials Notebook: Data Analysis and Reporting with Python"
      ]
    },
    {
      "cell_type": "markdown",
      "metadata": {
        "id": "p5-vSSK2YRvv",
        "colab_type": "text"
      },
      "source": [
        "## Pre-requisites"
      ]
    },
    {
      "cell_type": "code",
      "metadata": {
        "id": "7KgwSnDfYDoq",
        "colab_type": "code",
        "colab": {}
      },
      "source": [
        "# Pre-requisite 1\n",
        "# ---\n",
        "# Importing pandas library for data manipulation\n",
        "# ---\n",
        "# OUR CODE GOES BELOW\n",
        "# \n",
        "import pandas as pd"
      ],
      "execution_count": null,
      "outputs": []
    },
    {
      "cell_type": "code",
      "metadata": {
        "id": "qUUHs9KPYUh_",
        "colab_type": "code",
        "colab": {}
      },
      "source": [
        "# Pre-requisite 2\n",
        "# ---\n",
        "# Importing numpy library for scientific computations\n",
        "# ---\n",
        "# OUR CODE GOES BELOW\n",
        "# \n",
        "import numpy as np"
      ],
      "execution_count": null,
      "outputs": []
    },
    {
      "cell_type": "markdown",
      "metadata": {
        "id": "AKFUFX9oYYlz",
        "colab_type": "text"
      },
      "source": [
        "## 1. Data Exploration"
      ]
    },
    {
      "cell_type": "markdown",
      "metadata": {
        "id": "8qPMH6tKZQCL",
        "colab_type": "text"
      },
      "source": [
        "### Examples"
      ]
    },
    {
      "cell_type": "code",
      "metadata": {
        "id": "mO6NfKbVYrCd",
        "colab_type": "code",
        "colab": {}
      },
      "source": [
        "# Viewing top records of the dataset\n",
        "# ---\n",
        "# You have been given the following dataset on Ebola cases.\n",
        "# Let's preview the first 10 rows.\n",
        "# ---\n",
        "# Dataset url = https://bit.ly/2T60DKG\n",
        "# \n",
        "ebola_df = pd.read_csv('https://bit.ly/2T60DKG')\n",
        "ebola_df.head(10)"
      ],
      "execution_count": null,
      "outputs": []
    },
    {
      "cell_type": "code",
      "metadata": {
        "id": "_-q9fhfTZRhK",
        "colab_type": "code",
        "colab": {}
      },
      "source": [
        "# Viewing last records of the dataset\n",
        "# ---\n",
        "# Preview the last 10 records of the ebola dataset\n",
        "# ---\n",
        "# \n",
        "last_ebola_df = ebola_df.tail(10)\n",
        "last_ebola_df"
      ],
      "execution_count": null,
      "outputs": []
    },
    {
      "cell_type": "code",
      "metadata": {
        "id": "sJVRps4pZRXm",
        "colab_type": "code",
        "colab": {}
      },
      "source": [
        "# Taking a sample\n",
        "# ---\n",
        "# Take a sample of the 5 records from the ebola dataset\n",
        "# ---\n",
        "# \n",
        "sample_ebola_df = ebola_df.sample(5)\n",
        "sample_ebola_df"
      ],
      "execution_count": null,
      "outputs": []
    },
    {
      "cell_type": "markdown",
      "metadata": {
        "id": "K7XZ0lfDZSfE",
        "colab_type": "text"
      },
      "source": [
        "### <font color=\"green\">Challenges</font>"
      ]
    },
    {
      "cell_type": "code",
      "metadata": {
        "id": "DnYZqcjdZZgg",
        "colab_type": "code",
        "colab": {}
      },
      "source": [
        "# Challenge 1\n",
        "# ---\n",
        "# View the first 20 records of the given banknotes dataset \n",
        "# ---\n",
        "# Dataset url = https://bit.ly/2yT9oAU\n",
        "# ---\n",
        "# OUR CODE GOES BELOW\n",
        "# "
      ],
      "execution_count": null,
      "outputs": []
    },
    {
      "cell_type": "code",
      "metadata": {
        "id": "nw1IjmUZZaA2",
        "colab_type": "code",
        "colab": {}
      },
      "source": [
        "# Challenge 2\n",
        "# ---\n",
        "# View the last 5 records of the above banknotes dataset \n",
        "# ---\n",
        "# OUR CODE GOES BELOW\n",
        "# "
      ],
      "execution_count": null,
      "outputs": []
    },
    {
      "cell_type": "code",
      "metadata": {
        "id": "aFgg61OxZZvT",
        "colab_type": "code",
        "colab": {}
      },
      "source": [
        "# Challenge 3\n",
        "# ---\n",
        "# Get a sample of 50 records from the above banknotes dataset \n",
        "# ---\n",
        "# OUR CODE GOES BELOW\n",
        "# "
      ],
      "execution_count": null,
      "outputs": []
    },
    {
      "cell_type": "markdown",
      "metadata": {
        "id": "vjKU2wFjYseF",
        "colab_type": "text"
      },
      "source": [
        "## 2. Selecting Columns I"
      ]
    },
    {
      "cell_type": "markdown",
      "metadata": {
        "colab_type": "text",
        "id": "mcBYkd2dZeRm"
      },
      "source": [
        "### Examples"
      ]
    },
    {
      "cell_type": "code",
      "metadata": {
        "colab_type": "code",
        "id": "k-tJw2xQZeRo",
        "colab": {}
      },
      "source": [
        "# Selecting a Column\n",
        "# ---\n",
        "# Select the first 5 values of the Value column from the previously used ebola dataset\n",
        "# ---\n",
        "# \n",
        "ebola_df_value = ebola_df[['Value']]\n",
        "ebola_df_value.head()"
      ],
      "execution_count": null,
      "outputs": []
    },
    {
      "cell_type": "code",
      "metadata": {
        "colab_type": "code",
        "id": "DDrUE3y8ZeRt",
        "colab": {}
      },
      "source": [
        "# Selecting Multiple Columns I\n",
        "# ---\n",
        "# Select last 5 records from Country and Latitude column i.e. Lat, of the ebola dataset\n",
        "# ---\n",
        "#\n",
        "ebola_df_country_lat = ebola_df[['Country', 'Lat']]\n",
        "ebola_df_country_lat.tail()\n",
        "\n",
        "# Method 2\n",
        "# Uncomment the following lines\n",
        "# ---\n",
        "ebola_df_country_lat_method2 = ebola_df.iloc[:,[0, 3]]\n",
        "ebola_df_country_lat_method2.tail()"
      ],
      "execution_count": null,
      "outputs": []
    },
    {
      "cell_type": "code",
      "metadata": {
        "id": "PAYdeC6trVEr",
        "colab_type": "code",
        "colab": {}
      },
      "source": [
        "# Selecting Multiple Columns II\n",
        "# ---\n",
        "# Select last 5 records of the first 2 columns of the the ebola dataset\n",
        "# ---\n",
        "# \n",
        "ebola_df_country_bonus = ebola_df.iloc[:,0:2]\n",
        "ebola_df_country_bonus.head()"
      ],
      "execution_count": null,
      "outputs": []
    },
    {
      "cell_type": "markdown",
      "metadata": {
        "colab_type": "text",
        "id": "amveijHvZqGL"
      },
      "source": [
        "### <font color=\"green\">Challenges</font>"
      ]
    },
    {
      "cell_type": "code",
      "metadata": {
        "colab_type": "code",
        "id": "lsZ4g8bNZqGN",
        "colab": {}
      },
      "source": [
        "# Challenge 1\n",
        "# ---\n",
        "# Select the first 20 records of the Diagonal column in the given banknotes dataset.\n",
        "# ---\n",
        "# Dataset url = https://bit.ly/2yT9oAU\n",
        "# ---\n",
        "# OUR CODE GOES BELOW\n",
        "# "
      ],
      "execution_count": null,
      "outputs": []
    },
    {
      "cell_type": "code",
      "metadata": {
        "colab_type": "code",
        "id": "tEtn_FD8ZqGR",
        "colab": {}
      },
      "source": [
        "# Challenge 2\n",
        "# ---\n",
        "# Select a sample of 10 records from the Diagonal and conterfeit column using the banknotes dataset.\n",
        "# ---\n",
        "# OUR CODE GOES BELOW\n",
        "# "
      ],
      "execution_count": null,
      "outputs": []
    },
    {
      "cell_type": "code",
      "metadata": {
        "colab_type": "code",
        "id": "z_JIguQLZqGV",
        "colab": {}
      },
      "source": [
        "# Challenge 3\n",
        "# ---\n",
        "# In prepartion for data modeling, you're required to select last 5 colums of the banknotes dataset.\n",
        "# Once you do so, preview the dataframe to check whether you've selected the columns correctly.\n",
        "# ---\n",
        "# OUR CODE GOES BELOW\n",
        "# "
      ],
      "execution_count": null,
      "outputs": []
    },
    {
      "cell_type": "markdown",
      "metadata": {
        "id": "InG0BnDgYxUo",
        "colab_type": "text"
      },
      "source": [
        "## 3. Selecting Columns II "
      ]
    },
    {
      "cell_type": "markdown",
      "metadata": {
        "colab_type": "text",
        "id": "JFmLS0JcZfyU"
      },
      "source": [
        "### Examples"
      ]
    },
    {
      "cell_type": "code",
      "metadata": {
        "colab_type": "code",
        "id": "1WgKBLL5ZfyV",
        "colab": {}
      },
      "source": [
        "# Selecting Unique Values in a column\n",
        "# --- \n",
        "# Let's select unique values from the Country column in the ebola dataset\n",
        "# ---\n",
        "# \n",
        "ebola_countries = ebola_df['Country'].unique() \n",
        "\n",
        "# We use the list() method to get a list else\n",
        "# we would get an array.\n",
        "# ---\n",
        "#\n",
        "list(ebola_countries)"
      ],
      "execution_count": null,
      "outputs": []
    },
    {
      "cell_type": "code",
      "metadata": {
        "colab_type": "code",
        "id": "nHzN8EplZfyY",
        "colab": {}
      },
      "source": [
        "# Selecting Rows with Columns with certain values\n",
        "# ---\n",
        "# We will select all Liberia records\n",
        "# \n",
        "liberia_records = ebola_df[ebola_df.Country.isin(['Liberia'])]\n",
        "liberia_records"
      ],
      "execution_count": null,
      "outputs": []
    },
    {
      "cell_type": "code",
      "metadata": {
        "colab_type": "code",
        "id": "vTAS74BpZfyb",
        "colab": {}
      },
      "source": [
        "# Selecting Records with Columns without certain values\n",
        "# ---\n",
        "# We will select all other records apart from the Liberia ones.\n",
        "# Let's confirm our result by checking a sample of 10 records.\n",
        "# ---\n",
        "#\n",
        "other_country_records = ebola_df[~ebola_df.Country.isin(['Liberia'])]\n",
        "other_country_records.sample(15)"
      ],
      "execution_count": null,
      "outputs": []
    },
    {
      "cell_type": "markdown",
      "metadata": {
        "colab_type": "text",
        "id": "4S6nBEpDZq6E"
      },
      "source": [
        "### <font color=\"green\">Challenges</font>"
      ]
    },
    {
      "cell_type": "code",
      "metadata": {
        "colab_type": "code",
        "id": "-cM9sp_IZq6G",
        "colab": {}
      },
      "source": [
        "# Challenge 1\n",
        "# ---\n",
        "# Select and preview the most similar banknotes length measurements?\n",
        "# ---\n",
        "# Dataset url = https://bit.ly/2yT9oAU\n",
        "# ---\n",
        "# "
      ],
      "execution_count": null,
      "outputs": []
    },
    {
      "cell_type": "code",
      "metadata": {
        "colab_type": "code",
        "id": "WxgVC-26Zq6I",
        "colab": {}
      },
      "source": [
        "# Challenge 2\n",
        "# ---\n",
        "# Select and preview the least similar banknotes diagonal measurements? \n",
        "# ---\n",
        "# "
      ],
      "execution_count": null,
      "outputs": []
    },
    {
      "cell_type": "code",
      "metadata": {
        "colab_type": "code",
        "id": "RzPM-f_FZq6K",
        "colab": {}
      },
      "source": [
        "# Challenge 3\n",
        "# ---\n",
        "# How many banknotes had a left measurement and right measurement greater than 129?\n",
        "# Get a sample of the records and later determine the no.\n",
        "# Hint: Sample  Use len() to determine the no. of items.\n",
        "# ---\n",
        "# "
      ],
      "execution_count": null,
      "outputs": []
    },
    {
      "cell_type": "markdown",
      "metadata": {
        "id": "mxCkESI_ZA5A",
        "colab_type": "text"
      },
      "source": [
        "## 4. Ranking / Sorting"
      ]
    },
    {
      "cell_type": "markdown",
      "metadata": {
        "colab_type": "text",
        "id": "iDnNGL-mZhJ9"
      },
      "source": [
        "### Examples"
      ]
    },
    {
      "cell_type": "code",
      "metadata": {
        "colab_type": "code",
        "id": "JB7Sd98YZhKw",
        "colab": {}
      },
      "source": [
        "# Sorting in Ascending / Descending Order \n",
        "# ---\n",
        "# From the ebola dataset sort the Guinea records in descending order\n",
        "# ---\n",
        "# OUR CODE GOES BELOW\n",
        "# \n",
        "guinea_records = ebola_df[ebola_df.Country.isin(['Guinea'])].sort_values(by='Value', ascending=1)\n",
        "guinea_records.head()"
      ],
      "execution_count": null,
      "outputs": []
    },
    {
      "cell_type": "code",
      "metadata": {
        "colab_type": "code",
        "id": "Xqp_I7LiZhKo",
        "colab": {}
      },
      "source": [
        "# Ranking in Ascending Order\n",
        "# ---\n",
        "# Create a new column that is the rank of the value of 'Value' in descending order\n",
        "# ---\n",
        "# \n",
        "ebola_df['Ranking'] = ebola_df['Value'].rank(ascending=0)\n",
        "ebola_df.head()"
      ],
      "execution_count": null,
      "outputs": []
    },
    {
      "cell_type": "markdown",
      "metadata": {
        "colab_type": "text",
        "id": "qP3PtIAAZsBG"
      },
      "source": [
        "### <font color=\"green\">Challenges</font>"
      ]
    },
    {
      "cell_type": "code",
      "metadata": {
        "colab_type": "code",
        "id": "awH7EcF_ZsBI",
        "colab": {}
      },
      "source": [
        "# Challenge 1\n",
        "# ---\n",
        "# From the ebola dataset, select the Mali records with more \n",
        "# than 100 cases and sort them in descending order. \n",
        "# ---\n",
        "# "
      ],
      "execution_count": null,
      "outputs": []
    },
    {
      "cell_type": "code",
      "metadata": {
        "colab_type": "code",
        "id": "aw5EjsOPZsBK",
        "colab": {}
      },
      "source": [
        "# Challenge 2\n",
        "# ---\n",
        "# From the banknotes dataset, find out which records had the largest \n",
        "# diagonal length? In addition, rank them by left size.\n",
        "# --- \n",
        "# Dataset url = https://bit.ly/2yT9oAU\n",
        "# ---\n",
        "# "
      ],
      "execution_count": null,
      "outputs": []
    },
    {
      "cell_type": "markdown",
      "metadata": {
        "id": "YC9AVuitZFD8",
        "colab_type": "text"
      },
      "source": [
        "## 5. Aggregate Functions "
      ]
    },
    {
      "cell_type": "markdown",
      "metadata": {
        "colab_type": "text",
        "id": "UxbUs5stZiZs"
      },
      "source": [
        "### Examples"
      ]
    },
    {
      "cell_type": "code",
      "metadata": {
        "colab_type": "code",
        "id": "lMkqHrLdZiZv",
        "colab": {}
      },
      "source": [
        "# Example 1\n",
        "# ---\n",
        "# Shape\n",
        "# ---\n",
        "# How many Liberian records do we have in our ebola dataset?\n",
        "# ---\n",
        "# (records, columns)\n",
        "#\n",
        "liberia_records = ebola_df[ebola_df.Country.isin(['Liberia'])]\n",
        "liberia_records.shape\n",
        "\n",
        "# (9 records, 7 columns)"
      ],
      "execution_count": null,
      "outputs": []
    },
    {
      "cell_type": "code",
      "metadata": {
        "id": "1mb9r-5uhXRb",
        "colab_type": "code",
        "colab": {}
      },
      "source": [
        "# Example 2\n",
        "# ---\n",
        "# Count() Function\n",
        "# ---\n",
        "# How many values do we have accoss our variables in our ebola dataset?\n",
        "# ---\n",
        "#\n",
        "liberia_records = ebola_df[ebola_df.Country.isin(['Liberia'])]\n",
        "liberia_records.count()"
      ],
      "execution_count": null,
      "outputs": []
    },
    {
      "cell_type": "code",
      "metadata": {
        "colab_type": "code",
        "id": "fv0c4tTEZiaB",
        "colab": {}
      },
      "source": [
        "# Example 3\n",
        "# ---\n",
        "# Unique Occurrences\n",
        "# ---\n",
        "# Were all records in our ebola dataset unique?\n",
        "# ---\n",
        "# \n",
        "ebola_df[ebola_df.duplicated()].shape\n",
        "\n",
        "# Yes, there were no duplicate records"
      ],
      "execution_count": null,
      "outputs": []
    },
    {
      "cell_type": "code",
      "metadata": {
        "id": "fQsRKwb1eeWB",
        "colab_type": "code",
        "colab": {}
      },
      "source": [
        "# Example 4\n",
        "# ---\n",
        "# Sum\n",
        "# ---\n",
        "# How many ebola cases in Sierra Leone were reported given the ebola dataset?\n",
        "# ---\n",
        "# \n",
        "sierra_cases_sum = ebola_df[ebola_df.Country.isin(['Sierra Leone'])][['Value']].sum() \n",
        "sierra_cases_sum"
      ],
      "execution_count": null,
      "outputs": []
    },
    {
      "cell_type": "code",
      "metadata": {
        "id": "rLSxUtujZGe9",
        "colab_type": "code",
        "colab": {}
      },
      "source": [
        "# Example 5\n",
        "# ---\n",
        "# Minimum\n",
        "# ---\n",
        "# Which record had the least no of ebola cases?\n",
        "# ---\n",
        "# \n",
        "least_cases = ebola_df.min()\n",
        "least_cases "
      ],
      "execution_count": null,
      "outputs": []
    },
    {
      "cell_type": "code",
      "metadata": {
        "id": "u943169peXFP",
        "colab_type": "code",
        "colab": {}
      },
      "source": [
        "# Maximum\n",
        "# ---\n",
        "# Which record had the highest no of ebola cases?\n",
        "# ---\n",
        "# \n",
        "highest_cases = ebola_df.max()\n",
        "highest_cases"
      ],
      "execution_count": null,
      "outputs": []
    },
    {
      "cell_type": "code",
      "metadata": {
        "id": "G5-TLQHQeYsK",
        "colab_type": "code",
        "colab": {}
      },
      "source": [
        "# Mean\n",
        "# ---\n",
        "# What was the average number of ebola cases in Sierra Leone?\n",
        "# ---\n",
        "# \n",
        "sierra_cases_avg = ebola_df[ebola_df.Country.isin(['Sierra Leone'])][['Value']].mean() \n",
        "sierra_cases_avg"
      ],
      "execution_count": null,
      "outputs": []
    },
    {
      "cell_type": "code",
      "metadata": {
        "id": "OpX6s0yueecR",
        "colab_type": "code",
        "colab": {}
      },
      "source": [
        "# Mode\n",
        "# ---\n",
        "# What was the most frequent value in the Ebola dataset?\n",
        "# ---\n",
        "# \n",
        "frequent_values_df = ebola_df['Country'].mode() \n",
        "frequent_values_df"
      ],
      "execution_count": null,
      "outputs": []
    },
    {
      "cell_type": "code",
      "metadata": {
        "id": "wWpB21E9CiJn",
        "colab_type": "code",
        "colab": {}
      },
      "source": [
        "# Median\n",
        "# ---\n",
        "# The median value of the Ebola cases.\n",
        "# ---\n",
        "# \n",
        "median_values_df = ebola_df['Value'].median() \n",
        "median_values_df"
      ],
      "execution_count": null,
      "outputs": []
    },
    {
      "cell_type": "code",
      "metadata": {
        "id": "KhVsLoBoedbc",
        "colab_type": "code",
        "colab": {}
      },
      "source": [
        "# Summary Statistics\n",
        "# ---\n",
        "# Create a descriptive statistics table of the given ebola dataset \n",
        "# in preparation for further analysis.\n",
        "# ---\n",
        "# \n",
        "ebola_df.describe()"
      ],
      "execution_count": null,
      "outputs": []
    },
    {
      "cell_type": "markdown",
      "metadata": {
        "colab_type": "text",
        "id": "1mUNWEtSZsi9"
      },
      "source": [
        "### <font color=\"green\">Challenges</font>"
      ]
    },
    {
      "cell_type": "code",
      "metadata": {
        "colab_type": "code",
        "id": "R-G7d9HyZsi_",
        "colab": {}
      },
      "source": [
        "# Challenge 1\n",
        "# ---\n",
        "# How many records can be found in the following insurance dataset?\n",
        "# ---\n",
        "# Insurance Dataset url = https://bit.ly/2y5CRYc\n",
        "# ---\n",
        "# This dataset contains anonymised patient data.\n",
        "# ---\n",
        "# OUR CODE GOES BELOW\n",
        "# "
      ],
      "execution_count": null,
      "outputs": []
    },
    {
      "cell_type": "code",
      "metadata": {
        "colab_type": "code",
        "id": "dl1KEjeoZsjB",
        "colab": {}
      },
      "source": [
        "# Challenge 2\n",
        "# ---\n",
        "# Are there any duplicates in the insurance dataset?\n",
        "# ---\n",
        "# OUR CODE GOES BELOW\n",
        "# "
      ],
      "execution_count": null,
      "outputs": []
    },
    {
      "cell_type": "code",
      "metadata": {
        "colab_type": "code",
        "id": "vDj1GABnZsjD",
        "colab": {}
      },
      "source": [
        "# Challenge 3\n",
        "# ---\n",
        "# Which regions did the patients come from?\n",
        "# ---\n",
        "# OUR CODE GOES BELOW\n",
        "# "
      ],
      "execution_count": null,
      "outputs": []
    },
    {
      "cell_type": "code",
      "metadata": {
        "id": "TAtrNHs824ay",
        "colab_type": "code",
        "colab": {}
      },
      "source": [
        "# Challenge 4\n",
        "# ---\n",
        "# What was the highest bmi recorded for patients from northwest and southwest regions?\n",
        "# ---\n",
        "# OUR CODE GOES BELOW\n",
        "# "
      ],
      "execution_count": null,
      "outputs": []
    },
    {
      "cell_type": "code",
      "metadata": {
        "id": "tsloZ4Bo24P1",
        "colab_type": "code",
        "colab": {}
      },
      "source": [
        "# Challenge 5\n",
        "# ---\n",
        "# What was the youngest age of a patient?\n",
        "# ---\n",
        "# OUR CODE GOES BELOW\n",
        "#"
      ],
      "execution_count": null,
      "outputs": []
    },
    {
      "cell_type": "code",
      "metadata": {
        "id": "XffQqHOd24KD",
        "colab_type": "code",
        "colab": {}
      },
      "source": [
        "# Challenge 6\n",
        "# ---\n",
        "# What was the average bmi recorded for patients above 50 years old?\n",
        "# ---\n",
        "# OUR CODE GOES BELOW\n",
        "#"
      ],
      "execution_count": null,
      "outputs": []
    },
    {
      "cell_type": "code",
      "metadata": {
        "id": "2IULqwYi235v",
        "colab_type": "code",
        "colab": {}
      },
      "source": [
        "# Challenge 7\n",
        "# ---\n",
        "# How much was spent collectively by male and female patients?\n",
        "# ---\n",
        "# OUR CODE GOES BELOW\n",
        "#"
      ],
      "execution_count": null,
      "outputs": []
    },
    {
      "cell_type": "markdown",
      "metadata": {
        "id": "MojDFr9UZH05",
        "colab_type": "text"
      },
      "source": [
        "## 6. Grouping"
      ]
    },
    {
      "cell_type": "markdown",
      "metadata": {
        "colab_type": "text",
        "id": "iPIq_mwkZjUS"
      },
      "source": [
        "### Examples"
      ]
    },
    {
      "cell_type": "code",
      "metadata": {
        "id": "06M0UADbE13H",
        "colab_type": "code",
        "colab": {}
      },
      "source": [
        "# Let's first load and preview the dataset that we will need for our examples \n",
        "# ---\n",
        "#\n",
        "insurance_df = pd.read_csv('https://bit.ly/2y5CRYc')\n",
        "insurance_df.head()"
      ],
      "execution_count": null,
      "outputs": []
    },
    {
      "cell_type": "code",
      "metadata": {
        "colab_type": "code",
        "id": "OO1t8mqJZjUT",
        "colab": {}
      },
      "source": [
        "# Example 1\n",
        "# ---\n",
        "# The groupby() function is used to split the data into groups based on some criteria.\n",
        "# ---\n",
        "# We will start by grouping by a single column and including an aggregate function as shown.\n",
        "# ---\n",
        "# NB: We will not store any our dataframe in a variable for ease of\n",
        "# performing computations\n",
        "# ---\n",
        "#\n",
        "insurance_df.groupby('region').mean()"
      ],
      "execution_count": null,
      "outputs": []
    },
    {
      "cell_type": "code",
      "metadata": {
        "id": "LlsRE01jPsVi",
        "colab_type": "code",
        "colab": {}
      },
      "source": [
        "# Example 2\n",
        "# ---\n",
        "# We can get the first entry for each gender by doing the following\n",
        "# ---\n",
        "# NB: You can also get the last one too using last()\n",
        "# ---\n",
        "# \n",
        "insurance_df.groupby('sex').first()"
      ],
      "execution_count": null,
      "outputs": []
    },
    {
      "cell_type": "code",
      "metadata": {
        "id": "EbK46keMM8ny",
        "colab_type": "code",
        "colab": {}
      },
      "source": [
        "# Example 3\n",
        "# ---\n",
        "# We can group a single column by another column then apply an aggregate function as shown\n",
        "# ---\n",
        "# \n",
        "insurance_df['expenses'].groupby([insurance_df['sex']]).sum()\n",
        "\n",
        "# Method 2\n",
        "# ---\n",
        "# NB: The groupby output will have an index or multi-index on rows corresponding \n",
        "# to our chosen grouping variables. To avoid setting this index, \n",
        "# we pass “as_index = False” to the groupby operation\n",
        "# ---\n",
        "# insurance_df.groupby('sex', as_index = False)['expenses'].sum()"
      ],
      "execution_count": null,
      "outputs": []
    },
    {
      "cell_type": "code",
      "metadata": {
        "id": "e2HYu24NOb3B",
        "colab_type": "code",
        "colab": {}
      },
      "source": [
        "# Example 4\n",
        "# ---\n",
        "# We can group the region column by another column i.e. bmi then apply an aggregate function\n",
        "# as shown\n",
        "# ---\n",
        "#\n",
        "insurance_df['bmi'].groupby([insurance_df['region']]).mean()\n",
        "\n",
        "# Method 2\n",
        "# ---\n",
        "# insurance_df.groupby('region', as_index = False)['bmi'].mean()"
      ],
      "execution_count": null,
      "outputs": []
    },
    {
      "cell_type": "code",
      "metadata": {
        "id": "KlZPbe_wP_YW",
        "colab_type": "code",
        "colab": {}
      },
      "source": [
        "# Example 5\n",
        "# ---\n",
        "# We can create a summary statistical table as shown below\n",
        "# ---\n",
        "insurance_df['expenses'].groupby([insurance_df['region']]).describe()\n",
        "\n",
        "# Method 2\n",
        "# ---\n",
        "# insurance_df.groupby('region', as_index = False)['expenses'].describe()"
      ],
      "execution_count": null,
      "outputs": []
    },
    {
      "cell_type": "code",
      "metadata": {
        "id": "-pjNXDxMQg5W",
        "colab_type": "code",
        "colab": {}
      },
      "source": [
        "# Example 6\n",
        "# ---\n",
        "# Further seeing how we can group a column by another column as shown \n",
        "# \n",
        "insurance_df['children'].groupby([insurance_df['region']]).sum()\n",
        "\n",
        "# Method 2\n",
        "# ---\n",
        "#\n",
        "# insurance_df.groupby('region', as_index = False)['children'].sum()"
      ],
      "execution_count": null,
      "outputs": []
    },
    {
      "cell_type": "code",
      "metadata": {
        "id": "5JiJ-exNX0Uk",
        "colab_type": "code",
        "colab": {}
      },
      "source": [
        "# Example 7\n",
        "# ---\n",
        "# Applying multiple aggregate functions after grouping a column by another column\n",
        "# ---\n",
        "# \n",
        "insurance_df['expenses'].groupby([insurance_df['region']]).agg([min, max, sum])\n",
        "\n",
        "# Method 2\n",
        "# insurance_df.groupby(['region'], as_index = False).agg({'expenses': [min, max, sum] })"
      ],
      "execution_count": null,
      "outputs": []
    },
    {
      "cell_type": "code",
      "metadata": {
        "id": "dw7F3D8-Z7rQ",
        "colab_type": "code",
        "colab": {}
      },
      "source": [
        "# Example 8\n",
        "# ---\n",
        "# We can also apply multiple aggregate functions after grouping a column by another column\n",
        "# ---\n",
        "# \n",
        "insurance_df.groupby(['region', 'sex'], as_index = False).agg({'expenses': [min, max, sum] })"
      ],
      "execution_count": null,
      "outputs": []
    },
    {
      "cell_type": "code",
      "metadata": {
        "id": "S9Q79b2NRbuO",
        "colab_type": "code",
        "colab": {}
      },
      "source": [
        "# Example 9\n",
        "# ---\n",
        "# Grouping by of multiple columns and then applying an aggregate function\n",
        "# ---\n",
        "# \n",
        "insurance_df['expenses'].groupby([insurance_df['region'], insurance_df['sex']]).sum()\n",
        "\n",
        "# Method 2\n",
        "# ---\n",
        "# insurance_df.groupby(['region', 'sex'], as_index = False)['expenses'].sum()\n",
        "\n",
        "# Method 3\n",
        "# ---\n",
        "# insurance_df.groupby(['region', 'sex']).agg({'expenses': ['sum']})"
      ],
      "execution_count": null,
      "outputs": []
    },
    {
      "cell_type": "markdown",
      "metadata": {
        "colab_type": "text",
        "id": "sWGVGLXeZtLH"
      },
      "source": [
        "### <font color=\"green\">Challenges</font>"
      ]
    },
    {
      "cell_type": "code",
      "metadata": {
        "colab_type": "code",
        "id": "0ipcashTZtLI",
        "colab": {}
      },
      "source": [
        "# Let's load and preview the dataset that we will use for the given challenges.\n",
        "# ---\n",
        "# The dataset contains customer invoice data.\n",
        "# ---\n",
        "# Dataset url = https://bit.ly/SuperMarketSalesDB\n",
        "# ---\n",
        "#  "
      ],
      "execution_count": null,
      "outputs": []
    },
    {
      "cell_type": "code",
      "metadata": {
        "colab_type": "code",
        "id": "IrFwkaMuZtLK",
        "colab": {}
      },
      "source": [
        "# Challenge 1\n",
        "# ---\n",
        "# Question: What was the average tax per city?\n",
        "# ---\n",
        "# OUR CODE GOES BELOW \n",
        "# "
      ],
      "execution_count": null,
      "outputs": []
    },
    {
      "cell_type": "code",
      "metadata": {
        "colab_type": "code",
        "id": "KcuTMahpZtLM",
        "colab": {}
      },
      "source": [
        "# Challenge 2\n",
        "# ---\n",
        "# Question: How much did female members from the city of Yagon spend?\n",
        "# ---\n",
        "# OUR CODE GOES BELOW \n",
        "# "
      ],
      "execution_count": null,
      "outputs": []
    },
    {
      "cell_type": "code",
      "metadata": {
        "id": "UuElKxR0o1ws",
        "colab_type": "code",
        "colab": {}
      },
      "source": [
        "# Challenge 3\n",
        "# ---\n",
        "# Question: How much was spent across all cities?\n",
        "# ---\n",
        "# OUR CODE GOES BELOW \n",
        "# "
      ],
      "execution_count": null,
      "outputs": []
    },
    {
      "cell_type": "code",
      "metadata": {
        "id": "_WtKM6mSo1j-",
        "colab_type": "code",
        "colab": {}
      },
      "source": [
        "# Challenge 4\n",
        "# ---\n",
        "# Question: What was the sum of goods sold across all branches?\n",
        "# ---\n",
        "# OUR CODE GOES BELOW \n",
        "# "
      ],
      "execution_count": null,
      "outputs": []
    },
    {
      "cell_type": "code",
      "metadata": {
        "id": "gpRpOLPAo1eE",
        "colab_type": "code",
        "colab": {}
      },
      "source": [
        "# Challenge 5\n",
        "# ---\n",
        "# Question: Which branches collected the most amount of money? \n",
        "# ---\n",
        "# OUR CODE GOES BELOW \n",
        "# "
      ],
      "execution_count": null,
      "outputs": []
    },
    {
      "cell_type": "code",
      "metadata": {
        "id": "KAhpUL2Ro1T5",
        "colab_type": "code",
        "colab": {}
      },
      "source": [
        "# Challenge 6\n",
        "# ---\n",
        "# Question: Which were the top rated branches?\n",
        "# ---\n",
        "# OUR CODE GOES BELOW \n",
        "# "
      ],
      "execution_count": null,
      "outputs": []
    },
    {
      "cell_type": "code",
      "metadata": {
        "id": "_NMGSpxlo1M3",
        "colab_type": "code",
        "colab": {}
      },
      "source": [
        "# Challenge 7\n",
        "# ---\n",
        "# Question: Make a comparison between non-members who made cash payments and credit card payments.\n",
        "# ---\n",
        "# OUR CODE GOES BELOW \n",
        "# "
      ],
      "execution_count": null,
      "outputs": []
    },
    {
      "cell_type": "code",
      "metadata": {
        "id": "k7c7R2Sfo08U",
        "colab_type": "code",
        "colab": {}
      },
      "source": [
        "# Challenge 8\n",
        "# ---\n",
        "# Question: Show the products line that sold the most indicating the rating.\n",
        "# ---\n",
        "# OUR CODE GOES BELOW \n",
        "# "
      ],
      "execution_count": null,
      "outputs": []
    },
    {
      "cell_type": "markdown",
      "metadata": {
        "id": "6XZbcORGZLd0",
        "colab_type": "text"
      },
      "source": [
        "## 7. Pivot Tables"
      ]
    },
    {
      "cell_type": "markdown",
      "metadata": {
        "colab_type": "text",
        "id": "xldYtGZ-Zjz5"
      },
      "source": [
        "### Examples"
      ]
    },
    {
      "cell_type": "code",
      "metadata": {
        "colab_type": "code",
        "id": "XyNlcAEhZjz6",
        "colab": {}
      },
      "source": [
        "# Example 1\n",
        "# ---\n",
        "# A pivot tables is a summary table and comprises of \n",
        "# outcomes similar to the group by tables.\n",
        "# --- \n",
        "# We will start working with pivot tables by getting one column \n",
        "# and applying an aggregate function as shown below\n",
        "# ---\n",
        "# \n",
        "pd.pivot_table(insurance_df, index=['region'], aggfunc='mean')"
      ],
      "execution_count": null,
      "outputs": []
    },
    {
      "cell_type": "code",
      "metadata": {
        "colab_type": "code",
        "id": "E9eEtnPKZjz-",
        "colab": {}
      },
      "source": [
        "# Example 2\n",
        "# ---\n",
        "# Getting the first entry for each gender\n",
        "# NB: You can get the last one too using last().\n",
        "# In addition, note the that the columns have been arranged alphabetically.\n",
        "# ---\n",
        "# \n",
        "pd.pivot_table(insurance_df, index=['sex'], aggfunc='first')"
      ],
      "execution_count": null,
      "outputs": []
    },
    {
      "cell_type": "code",
      "metadata": {
        "id": "XncXWHbLxNqv",
        "colab_type": "code",
        "colab": {}
      },
      "source": [
        "# Example 3\n",
        "# ---\n",
        "# We can group a single column by another column then apply an aggregate function as shown\n",
        "# ---\n",
        "# We will use numpy to compute the mean\n",
        "#\n",
        "pd.pivot_table(insurance_df, index=['sex'], aggfunc={'expenses': np.mean})"
      ],
      "execution_count": null,
      "outputs": []
    },
    {
      "cell_type": "code",
      "metadata": {
        "id": "ek2sW9X2zqwz",
        "colab_type": "code",
        "colab": {}
      },
      "source": [
        "# Example 4\n",
        "# ---\n",
        "# Grouping region by another column i.e. bmi, applying an aggregate function\n",
        "# ---\n",
        "#\n",
        "pd.pivot_table(insurance_df, index=['region'], aggfunc={'bmi': np.mean})"
      ],
      "execution_count": null,
      "outputs": []
    },
    {
      "cell_type": "code",
      "metadata": {
        "id": "ZfOhsM1I0bNu",
        "colab_type": "code",
        "colab": {}
      },
      "source": [
        "# Example 5\n",
        "# ---\n",
        "# Using a pivote table, we can also create a summary statistical table as shown below\n",
        "# ---\n",
        "#\n",
        "pd.pivot_table(insurance_df, index=['region'], aggfunc={'expenses': 'describe'})"
      ],
      "execution_count": null,
      "outputs": []
    },
    {
      "cell_type": "code",
      "metadata": {
        "id": "3_brcCVY3gHq",
        "colab_type": "code",
        "colab": {}
      },
      "source": [
        "# Example 6\n",
        "# ---\n",
        "# Getting the no. of children in each region\n",
        "# ---\n",
        "#  \n",
        "# \n",
        "pd.pivot_table(insurance_df, index=['region'], aggfunc={'children': sum}) "
      ],
      "execution_count": null,
      "outputs": []
    },
    {
      "cell_type": "code",
      "metadata": {
        "id": "ldDrVxC54Al8",
        "colab_type": "code",
        "colab": {}
      },
      "source": [
        "# Example 6\n",
        "# ---\n",
        "# Applying multiple aggregate functions to a group\n",
        "# ---\n",
        "# \n",
        "pd.pivot_table(insurance_df, index=['region', 'sex'], aggfunc={'expenses': [min, max, sum]})"
      ],
      "execution_count": null,
      "outputs": []
    },
    {
      "cell_type": "code",
      "metadata": {
        "id": "e1HkBiWr51y6",
        "colab_type": "code",
        "colab": {}
      },
      "source": [
        "# Example 7\n",
        "# ---\n",
        "# Applying multiple aggregate functions to a group\n",
        "# ---\n",
        "# \n",
        "pd.pivot_table(insurance_df, index=['region', 'sex'], aggfunc={'expenses': sum})"
      ],
      "execution_count": null,
      "outputs": []
    },
    {
      "cell_type": "markdown",
      "metadata": {
        "colab_type": "text",
        "id": "q9c7In767vRZ"
      },
      "source": [
        "### <font color=\"green\">Challenges</font>"
      ]
    },
    {
      "cell_type": "markdown",
      "metadata": {
        "id": "WDtAMSQd7y3B",
        "colab_type": "text"
      },
      "source": [
        "The challenges in this section will be same as the ones group by challenges. Compare your solutions with the ones you got in the previous section."
      ]
    },
    {
      "cell_type": "code",
      "metadata": {
        "colab_type": "code",
        "id": "8U-l2XmL7vRd",
        "colab": {}
      },
      "source": [
        "# You will use the supermarket dataset you previously used. \n",
        "# ---\n",
        "# The dataset contains customer invoice data.\n",
        "# ---\n",
        "# Dataset url = https://bit.ly/SuperMarketSalesDB\n",
        "# ---\n",
        "#  "
      ],
      "execution_count": null,
      "outputs": []
    },
    {
      "cell_type": "code",
      "metadata": {
        "colab_type": "code",
        "id": "YQ47XAX67vRm",
        "colab": {}
      },
      "source": [
        "# Challenge 1\n",
        "# ---\n",
        "# Question: What was the average tax per city?\n",
        "# ---\n",
        "# OUR CODE GOES BELOW \n",
        "# "
      ],
      "execution_count": null,
      "outputs": []
    },
    {
      "cell_type": "code",
      "metadata": {
        "colab_type": "code",
        "id": "M54iMgRt7vRv",
        "colab": {}
      },
      "source": [
        "# Challenge 2\n",
        "# ---\n",
        "# Question: How much did female members from the city of Yagon spend?\n",
        "# ---\n",
        "# OUR CODE GOES BELOW \n",
        "# "
      ],
      "execution_count": null,
      "outputs": []
    },
    {
      "cell_type": "code",
      "metadata": {
        "colab_type": "code",
        "id": "n7ua8NHY7vSI",
        "colab": {}
      },
      "source": [
        "# Challenge 3\n",
        "# ---\n",
        "# Question: How much was spent across all cities?\n",
        "# ---\n",
        "# OUR CODE GOES BELOW \n",
        "# "
      ],
      "execution_count": null,
      "outputs": []
    },
    {
      "cell_type": "code",
      "metadata": {
        "colab_type": "code",
        "id": "F4Cdnyqb7vSN",
        "colab": {}
      },
      "source": [
        "# Challenge 4\n",
        "# ---\n",
        "# Question: What was the sum of goods sold across all branches?\n",
        "# ---\n",
        "# OUR CODE GOES BELOW \n",
        "# "
      ],
      "execution_count": null,
      "outputs": []
    },
    {
      "cell_type": "code",
      "metadata": {
        "colab_type": "code",
        "id": "BiqXSy4Q7vSS",
        "colab": {}
      },
      "source": [
        "# Challenge 5\n",
        "# ---\n",
        "# Question: Which branches collected the most amount of money? \n",
        "# ---\n",
        "# OUR CODE GOES BELOW \n",
        "# "
      ],
      "execution_count": null,
      "outputs": []
    },
    {
      "cell_type": "code",
      "metadata": {
        "colab_type": "code",
        "id": "PXKJv3tW7vSY",
        "colab": {}
      },
      "source": [
        "# Challenge 6\n",
        "# ---\n",
        "# Question: Which were the top rated branches?\n",
        "# ---\n",
        "# OUR CODE GOES BELOW \n",
        "# "
      ],
      "execution_count": null,
      "outputs": []
    },
    {
      "cell_type": "code",
      "metadata": {
        "colab_type": "code",
        "id": "0MF7tVGR7vSd",
        "colab": {}
      },
      "source": [
        "# Challenge 7\n",
        "# ---\n",
        "# Question: Make a comparison between non-members who made cash payments and credit card payments.\n",
        "# ---\n",
        "# OUR CODE GOES BELOW \n",
        "# "
      ],
      "execution_count": null,
      "outputs": []
    },
    {
      "cell_type": "code",
      "metadata": {
        "colab_type": "code",
        "id": "v_YYoGhh7vSj",
        "colab": {}
      },
      "source": [
        "# Challenge 8\n",
        "# ---\n",
        "# Question: Show the products line that sold the most indicating the rating.\n",
        "# ---\n",
        "# OUR CODE GOES BELOW \n",
        "# "
      ],
      "execution_count": null,
      "outputs": []
    }
  ]
}