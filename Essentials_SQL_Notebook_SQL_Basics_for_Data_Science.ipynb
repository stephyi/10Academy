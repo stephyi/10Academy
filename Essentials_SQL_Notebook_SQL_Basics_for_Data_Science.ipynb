{
  "nbformat": 4,
  "nbformat_minor": 0,
  "metadata": {
    "colab": {
      "name": "Essentials SQL Notebook - SQL Basics for Data Science",
      "provenance": [],
      "collapsed_sections": [
        "72fvcA0p3eP_",
        "cCqHYFCNO2tp",
        "wu5BHcm_KTWc",
        "qwzAwpjiKkG7",
        "1697xvW-RBSZ",
        "yy041te5Ks80",
        "3hgn7CkPQv-J",
        "n8N6UYkgRD5M",
        "u5VtCdCHK7Sz",
        "C4c7QGKPQ1Zv",
        "sOSgLCELRHop",
        "N2FhPpkQK-QJ",
        "mqifuLuwQ3wW",
        "TAfBKa86RWrK",
        "k87FSElQJpZu",
        "wW3wZgvdQjqP",
        "cysEaZORQ_Zw",
        "FEaCEc_o3t38",
        "Ncuq_Y3e3t39",
        "V_wMiubB3t4I",
        "kS0Su6b-KNS_",
        "pYD3vlpCIkwD",
        "LpEKaiDNRAXS"
      ],
      "toc_visible": true,
      "include_colab_link": true
    },
    "kernelspec": {
      "name": "python3",
      "display_name": "Python 3"
    }
  },
  "cells": [
    {
      "cell_type": "markdown",
      "metadata": {
        "id": "view-in-github",
        "colab_type": "text"
      },
      "source": [
        "<a href=\"https://colab.research.google.com/github/stephyi/10Academy/blob/master/Essentials_SQL_Notebook_SQL_Basics_for_Data_Science.ipynb\" target=\"_parent\"><img src=\"https://colab.research.google.com/assets/colab-badge.svg\" alt=\"Open In Colab\"/></a>"
      ]
    },
    {
      "cell_type": "markdown",
      "metadata": {
        "id": "WufIg6DvJUnk",
        "colab_type": "text"
      },
      "source": [
        "<font color=\"blue\">To use this notebook on Colaboratory, you will need to make a copy of it. Go to File > Save a Copy in Drive. You can then use the new copy that will appear in the new tab.</font>\n"
      ]
    },
    {
      "cell_type": "markdown",
      "metadata": {
        "id": "3nMThpNtJZGC",
        "colab_type": "text"
      },
      "source": [
        "# Essentials SQL Notebook - SQL Basics for Data Science"
      ]
    },
    {
      "cell_type": "markdown",
      "metadata": {
        "colab_type": "text",
        "id": "72fvcA0p3eP_"
      },
      "source": [
        "## Connecting to our database"
      ]
    },
    {
      "cell_type": "code",
      "metadata": {
        "colab_type": "code",
        "id": "eTXRKgNf3eQb",
        "colab": {}
      },
      "source": [
        "# We will start our practice work by first loading an sql extension. \n",
        "# Notebook extensions are simple add-ons that extend the basic functionality \n",
        "# of the notebook environment. This extension will allow us to run SQL code in our Notebook.\n",
        "# ---\n",
        "#\n",
        "%load_ext sql"
      ],
      "execution_count": null,
      "outputs": []
    },
    {
      "cell_type": "code",
      "metadata": {
        "colab_type": "code",
        "id": "po0uII6h3eQi",
        "colab": {}
      },
      "source": [
        "# We then connect to an in memory SQLite database within colaboratory. \n",
        "# This in memory dataset will be deleted as soon the dataset connection is lost, \n",
        "# meaning when our connection to the servers is disconnected then our database will cease to exist.\n",
        "# ---\n",
        "#  \n",
        "%sql sqlite://"
      ],
      "execution_count": null,
      "outputs": []
    },
    {
      "cell_type": "markdown",
      "metadata": {
        "id": "B-f3adZIJkZ3",
        "colab_type": "text"
      },
      "source": [
        "## 1. Loading our dataset"
      ]
    },
    {
      "cell_type": "code",
      "metadata": {
        "id": "WtHIEa855IXF",
        "colab_type": "code",
        "colab": {}
      },
      "source": [
        "# To read our csv file from an external source into our colaboratory environment, \n",
        "# we will use the pandas library for data maninupation. So, let's load it.\n",
        "# Don't worry about this library now, we will cover it in future sessions.\n",
        "# ---\n",
        "#\n",
        "import pandas as pd"
      ],
      "execution_count": null,
      "outputs": []
    },
    {
      "cell_type": "markdown",
      "metadata": {
        "colab_type": "text",
        "id": "QGecSPyuGUHN"
      },
      "source": [
        "### <font color=\"blue\">Example</font>"
      ]
    },
    {
      "cell_type": "code",
      "metadata": {
        "id": "XkplS_rTJFhN",
        "colab_type": "code",
        "colab": {}
      },
      "source": [
        "# Example \n",
        "# ---\n",
        "# We will load our first dataset from a csv file as shown and afterwords, \n",
        "# store that dataset in our in memory sqlite database.\n",
        "# ---\n",
        "\n",
        "# We read our dataset from its source and store it in a dataframe called cities.\n",
        "# ---\n",
        "#\n",
        "cities = pd.read_csv('http://bit.ly/CItiesDB') \n",
        "\n",
        "# We then delete the table if it exists in our database\n",
        "# ---\n",
        "#\n",
        "%sql DROP TABLE if EXISTS cities;\n",
        "\n",
        "# We then store this table in a table called 'cities' within our in memory dataset.\n",
        "# The persist command that we will create will help us do this. \n",
        "# NB: The table name will be the same as variable name above.\n",
        "# ---\n",
        "#\n",
        "%sql PERSIST cities;\n",
        "\n",
        "# We can then select the first five records of our created cities table.\n",
        "# This will help us know whether our table was created.\n",
        "# ---\n",
        "#\n",
        "%sql SELECT * FROM cities LIMIT 5;"
      ],
      "execution_count": null,
      "outputs": []
    },
    {
      "cell_type": "markdown",
      "metadata": {
        "id": "cCqHYFCNO2tp",
        "colab_type": "text"
      },
      "source": [
        "### <font color=\"green\">Challenge</font> "
      ]
    },
    {
      "cell_type": "code",
      "metadata": {
        "id": "Wo245yX5O3f4",
        "colab_type": "code",
        "colab": {}
      },
      "source": [
        "# Challenge: \n",
        "# ---\n",
        "# Question: Load and check the countries dataset from the following url\n",
        "# ---\n",
        "# Dataset url = http://bit.ly/CountriesDB1\n",
        "# ---\n",
        "# YOUR CODE GOES BELOW\n",
        "# ---\n",
        "#"
      ],
      "execution_count": null,
      "outputs": []
    },
    {
      "cell_type": "markdown",
      "metadata": {
        "id": "wu5BHcm_KTWc",
        "colab_type": "text"
      },
      "source": [
        "## 2. Selecting data from a table"
      ]
    },
    {
      "cell_type": "markdown",
      "metadata": {
        "id": "qwzAwpjiKkG7",
        "colab_type": "text"
      },
      "source": [
        "###<font color=\"blue\">Examples</font>"
      ]
    },
    {
      "cell_type": "code",
      "metadata": {
        "colab_type": "code",
        "id": "Kyjr75y-Qpv8",
        "colab": {}
      },
      "source": [
        "# Example 1: We can select all records from a columns as shown:\n",
        "# ---\n",
        "# Selecting all records from the temperature column.\n",
        "# ---\n",
        "#\n",
        "%%sql\n",
        "SELECT temperature FROM cities;"
      ],
      "execution_count": null,
      "outputs": []
    },
    {
      "cell_type": "code",
      "metadata": {
        "id": "GNSazEhmK9oa",
        "colab_type": "code",
        "colab": {}
      },
      "source": [
        "# Example 2: We can limit the no. of fetched records using the LIMIT keyword as shown:\n",
        "# ---\n",
        "#\n",
        "%%sql\n",
        "SELECT temperature FROM cities LIMIT 5;"
      ],
      "execution_count": null,
      "outputs": []
    },
    {
      "cell_type": "code",
      "metadata": {
        "id": "ZDQQ9rlxLadL",
        "colab_type": "code",
        "colab": {}
      },
      "source": [
        "# Example 3: We can select distinct items from a single column using the DISTINCT keyword as shown:\n",
        "# ---  \n",
        "#\n",
        "%%sql\n",
        "SELECT DISTINCT country FROM cities;"
      ],
      "execution_count": null,
      "outputs": []
    },
    {
      "cell_type": "code",
      "metadata": {
        "id": "cVjrnGa4Ni5i",
        "colab_type": "code",
        "colab": {}
      },
      "source": [
        "# Example 4: We can use conditions to select records through the use of the WHERE clause as shown:\n",
        "# ---  \n",
        "# \n",
        "%%sql\n",
        "SELECT * FROM cities WHERE country = 'Sweden';"
      ],
      "execution_count": null,
      "outputs": []
    },
    {
      "cell_type": "code",
      "metadata": {
        "id": "kdPIfkBfNnQN",
        "colab_type": "code",
        "colab": {}
      },
      "source": [
        "# Example 5: We can order our records through the use of the ORDER BY clause and using ASC or DESC as shown:\n",
        "# ---  \n",
        "# \n",
        "%%sql\n",
        "SELECT * FROM cities WHERE country = 'Sweden' ORDER BY temperature ASC;"
      ],
      "execution_count": null,
      "outputs": []
    },
    {
      "cell_type": "code",
      "metadata": {
        "id": "lbqzf1iuNoEZ",
        "colab_type": "code",
        "colab": {}
      },
      "source": [
        "# Example 6: We can count selected items through the use of COUNT() function as shown:\n",
        "# --- \n",
        "# \n",
        "%%sql\n",
        "SELECT count(*) \n",
        "FROM cities \n",
        "WHERE country = 'Sweden' \n",
        "ORDER BY temperature \n",
        "ASC;"
      ],
      "execution_count": null,
      "outputs": []
    },
    {
      "cell_type": "code",
      "metadata": {
        "id": "RT0V8HyfYrB8",
        "colab_type": "code",
        "colab": {}
      },
      "source": [
        "# Example 7\n",
        "# ---\n",
        "# We select records with values between certain boundaries in a column through\n",
        "# the BETWEEN AND keywords as shown:\n",
        "# ---\n",
        "# \n",
        "%%sql\n",
        "SELECT * FROM cities \n",
        "WHERE temperature \n",
        "BETWEEN 17 AND 20 \n",
        "ORDER BY country \n",
        "DESC; "
      ],
      "execution_count": null,
      "outputs": []
    },
    {
      "cell_type": "code",
      "metadata": {
        "id": "ZV6mA-7Zalk4",
        "colab_type": "code",
        "colab": {}
      },
      "source": [
        "# Example 8\n",
        "# ---\n",
        "# We select records between certain boundaries and not have having certain values \n",
        "# in a column using the AND NOT keywords as shown:\n",
        "# ---\n",
        "# \n",
        "%%sql\n",
        "SELECT * \n",
        "FROM cities \n",
        "WHERE temperature \n",
        "BETWEEN 17 AND 20 \n",
        "AND NOT longitude < 10\n",
        "ORDER BY country DESC;"
      ],
      "execution_count": null,
      "outputs": []
    },
    {
      "cell_type": "code",
      "metadata": {
        "id": "R8ZUFafAat1Q",
        "colab_type": "code",
        "colab": {}
      },
      "source": [
        "# Example 9\n",
        "# ---\n",
        "# We can select records without null values as shown below:\n",
        "# ---\n",
        "#\n",
        "%%sql\n",
        "SELECT * FROM cities WHERE temperature IS NULL;"
      ],
      "execution_count": null,
      "outputs": []
    },
    {
      "cell_type": "code",
      "metadata": {
        "id": "Oq4pNKBNvgSm",
        "colab_type": "code",
        "colab": {}
      },
      "source": [
        "# Example 10\n",
        "# ---\n",
        "# We can again select records with no null values as shown:\n",
        "# ----\n",
        "# This time we limit the fetched records because \n",
        "# we might expect to have many records returned.\n",
        "# ---\n",
        "# Challenge: You can also change the code to counting how many records \n",
        "# we have using the COUNT() keyword.\n",
        "# ---\n",
        "#\n",
        "%%sql\n",
        "SELECT * FROM cities \n",
        "WHERE temperature IS NOT NULL LIMIT 5;"
      ],
      "execution_count": null,
      "outputs": []
    },
    {
      "cell_type": "code",
      "metadata": {
        "colab_type": "code",
        "id": "HSvcTVKNQpwA",
        "colab": {}
      },
      "source": [
        "# Example 11\n",
        "# ---\n",
        "# We can select multiple fields FROM a table as shown. \n",
        "# ---\n",
        "#  \n",
        "%%sql\n",
        "SELECT city, temperature FROM cities \n",
        "ORDER BY temperature DESC \n",
        "LIMIT 5;"
      ],
      "execution_count": null,
      "outputs": []
    },
    {
      "cell_type": "markdown",
      "metadata": {
        "colab_type": "text",
        "id": "1697xvW-RBSZ"
      },
      "source": [
        "### <font color=\"green\">Challenges</font> "
      ]
    },
    {
      "cell_type": "markdown",
      "metadata": {
        "id": "trXH64YNw2rY",
        "colab_type": "text"
      },
      "source": [
        "<font color=\"blue\">Your will be required to use countries dataset that you loaded in the first challenge earlier.</font>\n"
      ]
    },
    {
      "cell_type": "code",
      "metadata": {
        "colab_type": "code",
        "id": "cXAH1TXzRBSb",
        "colab": {}
      },
      "source": [
        "# Challenge 1\n",
        "# ---\n",
        "# Question: Select the first 5 records from the countries dataset.\n",
        "# ---\n",
        "# YOUR CODE GOES BELOW \n",
        "# "
      ],
      "execution_count": null,
      "outputs": []
    },
    {
      "cell_type": "code",
      "metadata": {
        "colab_type": "code",
        "id": "T4fLiWFERBSf",
        "colab": {}
      },
      "source": [
        "# Challenge 2\n",
        "# ---\n",
        "# Question: How many countries are there in the eu from the given countries dataset?\n",
        "# ---\n",
        "# YOUR CODE GOES BELOW \n",
        "# "
      ],
      "execution_count": null,
      "outputs": []
    },
    {
      "cell_type": "code",
      "metadata": {
        "colab_type": "code",
        "id": "pTwyWpF9RBSh",
        "colab": {}
      },
      "source": [
        "# Challenge 3\n",
        "# ---\n",
        "# Question: Which countries had a population less than 3.0 and had a coastline?\n",
        "# ---\n",
        "# YOUR CODE GOES BELOW \n",
        "# "
      ],
      "execution_count": null,
      "outputs": []
    },
    {
      "cell_type": "code",
      "metadata": {
        "id": "Wl03uFTsGAK_",
        "colab_type": "code",
        "colab": {}
      },
      "source": [
        "# Challenge 4\n",
        "# ---\n",
        "# Question: Which countries had the most population but were not in the eu?\n",
        "# ---\n",
        "# YOUR CODE GOES BELOW \n",
        "# "
      ],
      "execution_count": null,
      "outputs": []
    },
    {
      "cell_type": "code",
      "metadata": {
        "id": "NE_lJxvdGrIz",
        "colab_type": "code",
        "colab": {}
      },
      "source": [
        "# Challenge 5\n",
        "# ---\n",
        "# Question: Which three eu countries have the least population?\n",
        "# ---\n",
        "# YOUR CODE GOES BELOW \n",
        "# "
      ],
      "execution_count": null,
      "outputs": []
    },
    {
      "cell_type": "code",
      "metadata": {
        "id": "Ne5dxdkKGv5K",
        "colab_type": "code",
        "colab": {}
      },
      "source": [
        "# Challenge 6\n",
        "# ---\n",
        "# Question: Does your countries dataset have any missing records?\n",
        "# ---\n",
        "# YOUR CODE GOES BELOW \n",
        "# "
      ],
      "execution_count": null,
      "outputs": []
    },
    {
      "cell_type": "markdown",
      "metadata": {
        "id": "yy041te5Ks80",
        "colab_type": "text"
      },
      "source": [
        "## 3. Inserting data to a table"
      ]
    },
    {
      "cell_type": "markdown",
      "metadata": {
        "colab_type": "text",
        "id": "3hgn7CkPQv-J"
      },
      "source": [
        "### <font color=\"blue\">Examples</font>"
      ]
    },
    {
      "cell_type": "code",
      "metadata": {
        "colab_type": "code",
        "id": "f3I544r5Qv-K",
        "colab": {}
      },
      "source": [
        "# Example 1\n",
        "# ---\n",
        "# Then we will insert new data into our table and noting the added record \n",
        "# city        = 'Palanga'\n",
        "# country     = 'Lithuania'\n",
        "# latitude    = '22'\n",
        "# longitude   = 12.1\n",
        "# temperature = 21 \n",
        "# ---\n",
        "#\n",
        "%%sql\n",
        "INSERT INTO cities (city, country, latitude, longitude, temperature)\n",
        "VALUES ('Palanga', 'Lithuania', 22, 12.1, 15);\n",
        "\n",
        "SELECT * FROM cities WHERE city = \"Palanga\";"
      ],
      "execution_count": null,
      "outputs": []
    },
    {
      "cell_type": "code",
      "metadata": {
        "colab_type": "code",
        "id": "KrWPp2zUQv-P",
        "colab": {}
      },
      "source": [
        "# Example 2\n",
        "# ---\n",
        "# Then we will insert new data into our table and noting all the values of the added record\n",
        "# city        = 'Prizren'\n",
        "# country     = 'Kosovo'\n",
        "# latitude    = '22' \n",
        "# ---  \n",
        "# \n",
        "%%sql\n",
        "INSERT INTO cities (city, country, latitude)\n",
        "VALUES ('Prizren', 'Kosovo', 22);\n",
        "\n",
        "SELECT * FROM cities WHERE city = \"Prizren\";"
      ],
      "execution_count": null,
      "outputs": []
    },
    {
      "cell_type": "markdown",
      "metadata": {
        "colab_type": "text",
        "id": "n8N6UYkgRD5M"
      },
      "source": [
        "### <font color=\"green\">Challenges</font> "
      ]
    },
    {
      "cell_type": "code",
      "metadata": {
        "colab_type": "code",
        "id": "EkyaXgrKRD5N",
        "colab": {}
      },
      "source": [
        "# Challenge 1\n",
        "# ---\n",
        "# Question: Insert the following data into our countries table.\n",
        "# country    = 'Kosovo'\n",
        "# population = '2'\n",
        "# eu         = no\n",
        "# coastline  = no\n",
        "# ---\n",
        "# "
      ],
      "execution_count": null,
      "outputs": []
    },
    {
      "cell_type": "markdown",
      "metadata": {
        "id": "u5VtCdCHK7Sz",
        "colab_type": "text"
      },
      "source": [
        "## 4. Updating data in a table"
      ]
    },
    {
      "cell_type": "markdown",
      "metadata": {
        "colab_type": "text",
        "id": "C4c7QGKPQ1Zv"
      },
      "source": [
        "### <font color=\"blue\">Examples</font>"
      ]
    },
    {
      "cell_type": "code",
      "metadata": {
        "colab_type": "code",
        "id": "JpdnanbfQ1Zx",
        "colab": {}
      },
      "source": [
        "# Example 1\n",
        "# ---\n",
        "# Let's update a record in our cities table\n",
        "# ---\n",
        "# \n",
        "%%sql\n",
        "UPDATE cities\n",
        "SET temperature = 3.0\n",
        "WHERE country = \"Albania\";\n",
        "\n",
        "SELECT * FROM cities WHERE country = \"Albania\";"
      ],
      "execution_count": null,
      "outputs": []
    },
    {
      "cell_type": "code",
      "metadata": {
        "colab_type": "code",
        "id": "LP3Uo8FOQ1Z0",
        "colab": {}
      },
      "source": [
        "# Example 2\n",
        "# ---\n",
        "# Let's update a record in our cities tables\n",
        "# ---\n",
        "#\n",
        "%%sql\n",
        "UPDATE cities\n",
        "SET latitude = 41.12, longitude = 20.09\n",
        "WHERE \"city\" = \"Elbasan\";\n",
        "\n",
        "SELECT * FROM cities WHERE country = \"Albania\";"
      ],
      "execution_count": null,
      "outputs": []
    },
    {
      "cell_type": "markdown",
      "metadata": {
        "colab_type": "text",
        "id": "sOSgLCELRHop"
      },
      "source": [
        "### <font color=\"green\">Challenges</font> "
      ]
    },
    {
      "cell_type": "code",
      "metadata": {
        "colab_type": "code",
        "id": "Kpgr5n3WRHoq",
        "colab": {}
      },
      "source": [
        "# Challenge 1\n",
        "# ---\n",
        "# Question: Update the population of Austria to 9.0 in the countries table.\n",
        "# --- \n",
        "# YOUR CODE GOES BELOW\n",
        "# "
      ],
      "execution_count": null,
      "outputs": []
    },
    {
      "cell_type": "markdown",
      "metadata": {
        "id": "N2FhPpkQK-QJ",
        "colab_type": "text"
      },
      "source": [
        "## 5. Performing calculations with SQL"
      ]
    },
    {
      "cell_type": "markdown",
      "metadata": {
        "colab_type": "text",
        "id": "mqifuLuwQ3wW"
      },
      "source": [
        "### <font color=\"blue\">Examples</font>"
      ]
    },
    {
      "cell_type": "code",
      "metadata": {
        "colab_type": "code",
        "id": "n8Oe5x9VQ3wX",
        "colab": {}
      },
      "source": [
        "# Example 1\n",
        "# ---\n",
        "# We can find the average by using the AVG() function as shown\n",
        "# ---\n",
        "# \n",
        "%%sql\n",
        "SELECT MAX(temperature) FROM cities;"
      ],
      "execution_count": null,
      "outputs": []
    },
    {
      "cell_type": "code",
      "metadata": {
        "colab_type": "code",
        "id": "AiMMLWu9Q3wc",
        "colab": {}
      },
      "source": [
        "# Example 2\n",
        "# ---\n",
        "# Which city had the highest temperature?\n",
        "# ---\n",
        "# \n",
        "%%sql \n",
        "SELECT city, MAX(temperature) FROM cities;"
      ],
      "execution_count": null,
      "outputs": []
    },
    {
      "cell_type": "code",
      "metadata": {
        "id": "ZMXEhBBYMuWh",
        "colab_type": "code",
        "colab": {}
      },
      "source": [
        "# Example 3\n",
        "# ---\n",
        "# Find the average temperature for each country\n",
        "# ---\n",
        "# \n",
        "%%sql\n",
        "SELECT country, AVG(temperature)\n",
        "FROM cities\n",
        "GROUP BY country"
      ],
      "execution_count": null,
      "outputs": []
    },
    {
      "cell_type": "markdown",
      "metadata": {
        "colab_type": "text",
        "id": "TAfBKa86RWrK"
      },
      "source": [
        "### <font color=\"green\">Challenges</font> "
      ]
    },
    {
      "cell_type": "code",
      "metadata": {
        "colab_type": "code",
        "id": "SxCaNS6cRWrL",
        "colab": {}
      },
      "source": [
        "# Challenge 1\n",
        "# ---\n",
        "# Question: What is the average population of EU with a coastline?\n",
        "# ---\n",
        "# YOUR CODE GOES BELOW\n",
        "#"
      ],
      "execution_count": null,
      "outputs": []
    },
    {
      "cell_type": "code",
      "metadata": {
        "colab_type": "code",
        "id": "Omc6ZrVKRWrO",
        "colab": {}
      },
      "source": [
        "# Challenge 2\n",
        "# ---\n",
        "# Question: Which EU cities had temperature above the average? \n",
        "# ---\n",
        "# YOUR CODE GOES BELOW\n",
        "#"
      ],
      "execution_count": null,
      "outputs": []
    },
    {
      "cell_type": "code",
      "metadata": {
        "id": "7tYbGdzOoFdk",
        "colab_type": "code",
        "colab": {}
      },
      "source": [
        "# Challenge 3\n",
        "# ---\n",
        "# Which EU country had the lowest population?\n",
        "# ---\n",
        "# YOUR CODE GOES BELOW\n",
        "#"
      ],
      "execution_count": null,
      "outputs": []
    },
    {
      "cell_type": "markdown",
      "metadata": {
        "id": "k87FSElQJpZu",
        "colab_type": "text"
      },
      "source": [
        "## 6. Creating SQL tables"
      ]
    },
    {
      "cell_type": "markdown",
      "metadata": {
        "colab_type": "text",
        "id": "wW3wZgvdQjqP"
      },
      "source": [
        "### <font color=\"blue\">Examples</font>"
      ]
    },
    {
      "cell_type": "code",
      "metadata": {
        "colab_type": "code",
        "id": "cAm4uz3UQjqR",
        "colab": {}
      },
      "source": [
        "# Example 1\n",
        "# ---\n",
        "# As we had seen, we can create a table using the following create table statement.\n",
        "# If the table doesn't exist, then we create a table with the columns; \n",
        "# store_id, name, owner, description, phone, opening_date.\n",
        "# --- \n",
        "#\n",
        "%%sql \n",
        "CREATE TABLE IF NOT EXISTS stores (\n",
        "    store_id, \n",
        "    name, \n",
        "    owner, \n",
        "    description, \n",
        "    phone,\n",
        "    opening_date\n",
        "); "
      ],
      "execution_count": null,
      "outputs": []
    },
    {
      "cell_type": "code",
      "metadata": {
        "id": "RN97rJGv2rgp",
        "colab_type": "code",
        "colab": {}
      },
      "source": [
        "# We will then use the SELECT statement to check whether the table has been created. \n",
        "#  - Don't worry about the SELECT statement, we will get to practice \n",
        "#    more how to use it. For now, just know that statement SELECTs\n",
        "#    all the records in the specified table.\n",
        "#  - We use a single % to execute a single sql statement in our notebook environment as shown\n",
        "# ---\n",
        "%sql SELECT * FROM stores;"
      ],
      "execution_count": null,
      "outputs": []
    },
    {
      "cell_type": "code",
      "metadata": {
        "id": "do37EYPz83NA",
        "colab_type": "code",
        "colab": {}
      },
      "source": [
        "# Example 2\n",
        "# ---\n",
        "# While creating our table we can also specify different \n",
        "# data types as shown below;  \n",
        "#\n",
        "%%sql \n",
        "CREATE TABLE IF NOT EXISTS stores_two (\n",
        "    store_id int, \n",
        "    name varchar(60), \n",
        "    owner varchar(60), \n",
        "    description text, \n",
        "    phone varchar(15),\n",
        "    opening_date date \n",
        "); \n",
        "SELECT * FROM stores_two;"
      ],
      "execution_count": null,
      "outputs": []
    },
    {
      "cell_type": "code",
      "metadata": {
        "id": "W6OPIb4xDeDu",
        "colab_type": "code",
        "colab": {}
      },
      "source": [
        "# Example 3\n",
        "# ---\n",
        "# We can also specify default values while creating our table \n",
        "# by use the default keyword as shown below \n",
        "# \n",
        "%%sql \n",
        "CREATE TABLE IF NOT EXISTS stores_three (\n",
        "    store_id int primary key, \n",
        "    name varchar(60), \n",
        "    owner varchar(60) default 'Unknown', \n",
        "    description text, \n",
        "    phone varchar(15),\n",
        "    opening_date date \n",
        "); \n",
        "SELECT * FROM stores_three;"
      ],
      "execution_count": null,
      "outputs": []
    },
    {
      "cell_type": "markdown",
      "metadata": {
        "colab_type": "text",
        "id": "cysEaZORQ_Zw"
      },
      "source": [
        "### <font color=\"green\">Challenges</font> "
      ]
    },
    {
      "cell_type": "code",
      "metadata": {
        "colab_type": "code",
        "id": "QTrbMmgZQ_Z3",
        "colab": {}
      },
      "source": [
        "# Challenge 1\n",
        "# ---\n",
        "# Question: Create a table named televisions with the following fields; \n",
        "# name, model, company, screen, price, warranty. \n",
        "# ---\n",
        "# YOUR CODE GOES BELOW\n",
        "# \n",
        "%%sql\n"
      ],
      "execution_count": null,
      "outputs": []
    },
    {
      "cell_type": "code",
      "metadata": {
        "colab_type": "code",
        "id": "GYxUKJ8JQ_Z9",
        "colab": {}
      },
      "source": [
        "# Challenge 2\n",
        "# ---\n",
        "# Question: Create a table called staff that stores staff_number, name, \n",
        "# department, salary, phone, address using appropriate data types,\n",
        "# applying the appropriate datatype and default value of \"unknown\" for\n",
        "# for the field phone.\n",
        "# --- \n",
        "# YOUR CODE GOES BELOW\n",
        "# "
      ],
      "execution_count": null,
      "outputs": []
    },
    {
      "cell_type": "markdown",
      "metadata": {
        "colab_type": "text",
        "id": "FEaCEc_o3t38"
      },
      "source": [
        "## 7. Altering SQL tables"
      ]
    },
    {
      "cell_type": "markdown",
      "metadata": {
        "colab_type": "text",
        "id": "Ncuq_Y3e3t39"
      },
      "source": [
        "### <font color=\"blue\">Examples</font>"
      ]
    },
    {
      "cell_type": "code",
      "metadata": {
        "colab_type": "code",
        "id": "NNN3DnuA3t3-",
        "colab": {}
      },
      "source": [
        "# Example 1\n",
        "# ---\n",
        "# The name of a table can be changed by doing the following.\n",
        "# and again check whether our change was made by using the \n",
        "# SELECT statement.\n",
        "# ---\n",
        "#\n",
        "%%sql  \n",
        "ALTER TABLE stores RENAME TO supermarket_stores;\n",
        "\n",
        "SELECT * FROM supermarket_stores;"
      ],
      "execution_count": null,
      "outputs": []
    },
    {
      "cell_type": "code",
      "metadata": {
        "colab_type": "code",
        "id": "NeGxCC_b3t4C",
        "colab": {}
      },
      "source": [
        "# Example 2\n",
        "# ---\n",
        "# We can add a field by doing the following.\n",
        "# Then check whether our new field was added to the \n",
        "# specified table by doing the following.\n",
        "# ---\n",
        "#\n",
        "%%sql \n",
        "ALTER TABLE supermarket_stores ADD country;\n",
        " \n",
        "SELECT * FROM supermarket_stores;"
      ],
      "execution_count": null,
      "outputs": []
    },
    {
      "cell_type": "markdown",
      "metadata": {
        "colab_type": "text",
        "id": "V_wMiubB3t4I"
      },
      "source": [
        "### <font color=\"green\">Challenges</font> "
      ]
    },
    {
      "cell_type": "code",
      "metadata": {
        "colab_type": "code",
        "id": "rHVRj0bq3t4I",
        "colab": {}
      },
      "source": [
        "# Challenge 1\n",
        "# ---\n",
        "# Rename the table televisions to tvs\n",
        "# ---\n",
        "# YOUR CODE GOES BELOW\n",
        "#"
      ],
      "execution_count": null,
      "outputs": []
    },
    {
      "cell_type": "code",
      "metadata": {
        "colab_type": "code",
        "id": "8e-3z4aS3t4L",
        "colab": {}
      },
      "source": [
        "# Challenge 2\n",
        "# ---\n",
        "# Add a field description with the data type text to televisions table \n",
        "# ---\n",
        "# YOUR CODE GOES BELOW\n",
        "#"
      ],
      "execution_count": null,
      "outputs": []
    },
    {
      "cell_type": "markdown",
      "metadata": {
        "id": "kS0Su6b-KNS_",
        "colab_type": "text"
      },
      "source": [
        "## 8. Dropping a table"
      ]
    },
    {
      "cell_type": "markdown",
      "metadata": {
        "colab_type": "text",
        "id": "pYD3vlpCIkwD"
      },
      "source": [
        "### <font color=\"blue\">Examples</font>"
      ]
    },
    {
      "cell_type": "code",
      "metadata": {
        "colab_type": "code",
        "id": "LFalTGJ8IkwH",
        "colab": {}
      },
      "source": [
        "# Example 1\n",
        "# ---\n",
        "# We can drop (or delete) our table as shown below\n",
        "# ---\n",
        "# \n",
        "%sql DROP TABLE supermarket_stores;"
      ],
      "execution_count": null,
      "outputs": []
    },
    {
      "cell_type": "markdown",
      "metadata": {
        "colab_type": "text",
        "id": "LpEKaiDNRAXS"
      },
      "source": [
        "### <font color=\"green\">Challenges</font> "
      ]
    },
    {
      "cell_type": "code",
      "metadata": {
        "colab_type": "code",
        "id": "TG6J7uycRAXT",
        "colab": {}
      },
      "source": [
        "# Challenge 1\n",
        "# ---\n",
        "# Question: Drop the tvs table from our database\n",
        "# ---\n",
        "# YOUR CODE GOES BELOW\n",
        "# "
      ],
      "execution_count": null,
      "outputs": []
    }
  ]
}