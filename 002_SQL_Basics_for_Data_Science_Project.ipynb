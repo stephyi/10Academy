{
  "nbformat": 4,
  "nbformat_minor": 0,
  "metadata": {
    "colab": {
      "name": "002 SQL Basics for Data Science: Project.ipynb",
      "provenance": [],
      "collapsed_sections": [],
      "include_colab_link": true
    },
    "kernelspec": {
      "name": "python3",
      "display_name": "Python 3"
    }
  },
  "cells": [
    {
      "cell_type": "markdown",
      "metadata": {
        "id": "view-in-github",
        "colab_type": "text"
      },
      "source": [
        "<a href=\"https://colab.research.google.com/github/stephyi/10Academy/blob/master/002_SQL_Basics_for_Data_Science_Project.ipynb\" target=\"_parent\"><img src=\"https://colab.research.google.com/assets/colab-badge.svg\" alt=\"Open In Colab\"/></a>"
      ]
    },
    {
      "cell_type": "code",
      "metadata": {
        "id": "xVwpFdjxydDP",
        "colab_type": "code",
        "colab": {
          "base_uri": "https://localhost:8080/",
          "height": 36
        },
        "outputId": "8440ad04-88db-4f98-c22d-3fdb620961a4"
      },
      "source": [
        "import pandas as pd\n",
        "%load_ext sql\n",
        "%sql sqlite://"
      ],
      "execution_count": null,
      "outputs": [
        {
          "output_type": "execute_result",
          "data": {
            "application/vnd.google.colaboratory.intrinsic": {
              "type": "string"
            },
            "text/plain": [
              "'Connected: @None'"
            ]
          },
          "metadata": {
            "tags": []
          },
          "execution_count": 1
        }
      ]
    },
    {
      "cell_type": "code",
      "metadata": {
        "id": "TWy-LOh-1M8W",
        "colab_type": "code",
        "colab": {
          "base_uri": "https://localhost:8080/",
          "height": 89
        },
        "outputId": "0e9389dd-6670-4b7d-80a3-2f46668982e7"
      },
      "source": [
        "accidents = pd.read_csv('traffic_accidents.csv')\n",
        "%sql DROP TABLE if EXISTS accidents;\n",
        "%sql PERSIST accidents;"
      ],
      "execution_count": null,
      "outputs": [
        {
          "output_type": "stream",
          "text": [
            " * sqlite://\n",
            "Done.\n",
            " * sqlite://\n"
          ],
          "name": "stdout"
        },
        {
          "output_type": "execute_result",
          "data": {
            "application/vnd.google.colaboratory.intrinsic": {
              "type": "string"
            },
            "text/plain": [
              "'Persisted accidents'"
            ]
          },
          "metadata": {
            "tags": []
          },
          "execution_count": 60
        }
      ]
    },
    {
      "cell_type": "code",
      "metadata": {
        "id": "I8cQVndg2KCk",
        "colab_type": "code",
        "colab": {
          "base_uri": "https://localhost:8080/",
          "height": 349
        },
        "outputId": "5d446bd9-a432-4487-d342-6de1a88f088a"
      },
      "source": [
        "# Defining data\n",
        "\n",
        "%sql SELECT * FROM accidents LIMIT 5"
      ],
      "execution_count": null,
      "outputs": [
        {
          "output_type": "stream",
          "text": [
            " * sqlite://\n",
            "Done.\n"
          ],
          "name": "stdout"
        },
        {
          "output_type": "execute_result",
          "data": {
            "text/html": [
              "<table>\n",
              "    <tr>\n",
              "        <th>index</th>\n",
              "        <th>crash_unit_id</th>\n",
              "        <th>rd_no</th>\n",
              "        <th>crash_date</th>\n",
              "        <th>unit_no</th>\n",
              "        <th>unit_type</th>\n",
              "        <th>num_passengers</th>\n",
              "        <th>vehicle_id</th>\n",
              "        <th>cmrc_veh_i</th>\n",
              "        <th>make</th>\n",
              "        <th>model</th>\n",
              "        <th>lic_plate_state</th>\n",
              "        <th>vehicle_year</th>\n",
              "        <th>15_Years</th>\n",
              "        <th>vehicle_defect</th>\n",
              "        <th>vehicle_type</th>\n",
              "        <th>vehicle_use</th>\n",
              "        <th>travel_direction</th>\n",
              "        <th>maneuver</th>\n",
              "        <th>towed_i</th>\n",
              "        <th>fire_i</th>\n",
              "        <th>occupant_cnt</th>\n",
              "        <th>exceed_speed_limit_i</th>\n",
              "        <th>towed_by</th>\n",
              "        <th>towed_to</th>\n",
              "        <th>area_00_i</th>\n",
              "        <th>area_01_i</th>\n",
              "        <th>area_02_i</th>\n",
              "        <th>area_03_i</th>\n",
              "        <th>area_04_i</th>\n",
              "        <th>area_05_i</th>\n",
              "        <th>area_06_i</th>\n",
              "        <th>area_07_i</th>\n",
              "        <th>area_08_i</th>\n",
              "        <th>area_09_i</th>\n",
              "        <th>area_10_i</th>\n",
              "        <th>area_11_i</th>\n",
              "        <th>area_12_i</th>\n",
              "        <th>area_99_i</th>\n",
              "        <th>first_contact_point</th>\n",
              "        <th>cmv_id</th>\n",
              "        <th>usdot_no</th>\n",
              "        <th>ccmc_no</th>\n",
              "        <th>ilcc_no</th>\n",
              "        <th>commercial_src</th>\n",
              "        <th>gvwr</th>\n",
              "        <th>carrier_name</th>\n",
              "        <th>carrier_state</th>\n",
              "        <th>carrier_city</th>\n",
              "        <th>hazmat_placards_i</th>\n",
              "        <th>hazmat_name</th>\n",
              "        <th>un_no</th>\n",
              "        <th>hazmat_present_i</th>\n",
              "        <th>hazmat_report_i</th>\n",
              "        <th>hazmat_report_no</th>\n",
              "        <th>mcs_report_i</th>\n",
              "        <th>mcs_report_no</th>\n",
              "        <th>hazmat_vio_cause_crash_i</th>\n",
              "        <th>mcs_vio_cause_crash_i</th>\n",
              "        <th>idot_permit_no</th>\n",
              "        <th>wide_load_i</th>\n",
              "        <th>trailer1_width</th>\n",
              "        <th>trailer2_width</th>\n",
              "        <th>trailer1_length</th>\n",
              "        <th>trailer2_length</th>\n",
              "        <th>total_vehicle_length</th>\n",
              "        <th>axle_cnt</th>\n",
              "        <th>vehicle_config</th>\n",
              "        <th>cargo_body_type</th>\n",
              "        <th>load_type</th>\n",
              "        <th>hazmat_out_of_service_i</th>\n",
              "        <th>mcs_out_of_service_i</th>\n",
              "        <th>hazmat_class</th>\n",
              "    </tr>\n",
              "    <tr>\n",
              "        <td>0</td>\n",
              "        <td>758369</td>\n",
              "        <td>JC469557</td>\n",
              "        <td>2019-10-12T01:57:00</td>\n",
              "        <td>1</td>\n",
              "        <td>DRIVER</td>\n",
              "        <td>None</td>\n",
              "        <td>720366</td>\n",
              "        <td>None</td>\n",
              "        <td>DODGE</td>\n",
              "        <td>NITRO</td>\n",
              "        <td>IL</td>\n",
              "        <td>2011</td>\n",
              "        <td>9</td>\n",
              "        <td>UNKNOWN</td>\n",
              "        <td>PASSENGER</td>\n",
              "        <td>UNKNOWN/NA</td>\n",
              "        <td>W</td>\n",
              "        <td>STRAIGHT AHEAD</td>\n",
              "        <td>None</td>\n",
              "        <td>None</td>\n",
              "        <td>1</td>\n",
              "        <td>None</td>\n",
              "        <td>None</td>\n",
              "        <td>None</td>\n",
              "        <td>None</td>\n",
              "        <td>None</td>\n",
              "        <td>None</td>\n",
              "        <td>None</td>\n",
              "        <td>None</td>\n",
              "        <td>None</td>\n",
              "        <td>None</td>\n",
              "        <td>None</td>\n",
              "        <td>None</td>\n",
              "        <td>None</td>\n",
              "        <td>None</td>\n",
              "        <td>None</td>\n",
              "        <td>1</td>\n",
              "        <td>None</td>\n",
              "        <td>OTHER</td>\n",
              "        <td>None</td>\n",
              "        <td>None</td>\n",
              "        <td>None</td>\n",
              "        <td>None</td>\n",
              "        <td>None</td>\n",
              "        <td>None</td>\n",
              "        <td>None</td>\n",
              "        <td>None</td>\n",
              "        <td>None</td>\n",
              "        <td>None</td>\n",
              "        <td>None</td>\n",
              "        <td>None</td>\n",
              "        <td>None</td>\n",
              "        <td>None</td>\n",
              "        <td>None</td>\n",
              "        <td>None</td>\n",
              "        <td>None</td>\n",
              "        <td>None</td>\n",
              "        <td>None</td>\n",
              "        <td>None</td>\n",
              "        <td>None</td>\n",
              "        <td>None</td>\n",
              "        <td>None</td>\n",
              "        <td>None</td>\n",
              "        <td>None</td>\n",
              "        <td>None</td>\n",
              "        <td>None</td>\n",
              "        <td>None</td>\n",
              "        <td>None</td>\n",
              "        <td>None</td>\n",
              "        <td>None</td>\n",
              "        <td>None</td>\n",
              "        <td>None</td>\n",
              "    </tr>\n",
              "    <tr>\n",
              "        <td>1</td>\n",
              "        <td>758356</td>\n",
              "        <td>JC469523</td>\n",
              "        <td>2019-10-12T00:30:00</td>\n",
              "        <td>1</td>\n",
              "        <td>DRIVER</td>\n",
              "        <td>None</td>\n",
              "        <td>720356</td>\n",
              "        <td>None</td>\n",
              "        <td>VOLVO</td>\n",
              "        <td>XC90</td>\n",
              "        <td>IL</td>\n",
              "        <td>2020</td>\n",
              "        <td>0</td>\n",
              "        <td>NONE</td>\n",
              "        <td>SPORT UTILITY VEHICLE (SUV)</td>\n",
              "        <td>PERSONAL</td>\n",
              "        <td>S</td>\n",
              "        <td>SLOW/STOP IN TRAFFIC</td>\n",
              "        <td>None</td>\n",
              "        <td>None</td>\n",
              "        <td>1</td>\n",
              "        <td>None</td>\n",
              "        <td>None</td>\n",
              "        <td>None</td>\n",
              "        <td>None</td>\n",
              "        <td>None</td>\n",
              "        <td>None</td>\n",
              "        <td>1</td>\n",
              "        <td>None</td>\n",
              "        <td>None</td>\n",
              "        <td>None</td>\n",
              "        <td>None</td>\n",
              "        <td>None</td>\n",
              "        <td>None</td>\n",
              "        <td>None</td>\n",
              "        <td>None</td>\n",
              "        <td>None</td>\n",
              "        <td>None</td>\n",
              "        <td>SIDE-RIGHT</td>\n",
              "        <td>None</td>\n",
              "        <td>None</td>\n",
              "        <td>None</td>\n",
              "        <td>None</td>\n",
              "        <td>None</td>\n",
              "        <td>None</td>\n",
              "        <td>None</td>\n",
              "        <td>None</td>\n",
              "        <td>None</td>\n",
              "        <td>None</td>\n",
              "        <td>None</td>\n",
              "        <td>None</td>\n",
              "        <td>None</td>\n",
              "        <td>None</td>\n",
              "        <td>None</td>\n",
              "        <td>None</td>\n",
              "        <td>None</td>\n",
              "        <td>None</td>\n",
              "        <td>None</td>\n",
              "        <td>None</td>\n",
              "        <td>None</td>\n",
              "        <td>None</td>\n",
              "        <td>None</td>\n",
              "        <td>None</td>\n",
              "        <td>None</td>\n",
              "        <td>None</td>\n",
              "        <td>None</td>\n",
              "        <td>None</td>\n",
              "        <td>None</td>\n",
              "        <td>None</td>\n",
              "        <td>None</td>\n",
              "        <td>None</td>\n",
              "        <td>None</td>\n",
              "    </tr>\n",
              "    <tr>\n",
              "        <td>2</td>\n",
              "        <td>758329</td>\n",
              "        <td>JC469467</td>\n",
              "        <td>2019-10-11T23:41:00</td>\n",
              "        <td>1</td>\n",
              "        <td>DRIVER</td>\n",
              "        <td>2.0</td>\n",
              "        <td>720325</td>\n",
              "        <td>None</td>\n",
              "        <td>TOYOTA MOTOR COMPANY, LTD.</td>\n",
              "        <td>UNKNOWN</td>\n",
              "        <td>IL</td>\n",
              "        <td>2015</td>\n",
              "        <td>5</td>\n",
              "        <td>NONE</td>\n",
              "        <td>PASSENGER</td>\n",
              "        <td>PERSONAL</td>\n",
              "        <td>E</td>\n",
              "        <td>PASSING/OVERTAKING</td>\n",
              "        <td>1</td>\n",
              "        <td>None</td>\n",
              "        <td>3</td>\n",
              "        <td>None</td>\n",
              "        <td>unknown</td>\n",
              "        <td>unknown</td>\n",
              "        <td>None</td>\n",
              "        <td>None</td>\n",
              "        <td>None</td>\n",
              "        <td>1</td>\n",
              "        <td>1</td>\n",
              "        <td>1</td>\n",
              "        <td>1</td>\n",
              "        <td>1</td>\n",
              "        <td>None</td>\n",
              "        <td>None</td>\n",
              "        <td>None</td>\n",
              "        <td>None</td>\n",
              "        <td>None</td>\n",
              "        <td>None</td>\n",
              "        <td>REAR</td>\n",
              "        <td>None</td>\n",
              "        <td>None</td>\n",
              "        <td>None</td>\n",
              "        <td>None</td>\n",
              "        <td>None</td>\n",
              "        <td>None</td>\n",
              "        <td>None</td>\n",
              "        <td>None</td>\n",
              "        <td>None</td>\n",
              "        <td>None</td>\n",
              "        <td>None</td>\n",
              "        <td>None</td>\n",
              "        <td>None</td>\n",
              "        <td>None</td>\n",
              "        <td>None</td>\n",
              "        <td>None</td>\n",
              "        <td>None</td>\n",
              "        <td>None</td>\n",
              "        <td>None</td>\n",
              "        <td>None</td>\n",
              "        <td>None</td>\n",
              "        <td>None</td>\n",
              "        <td>None</td>\n",
              "        <td>None</td>\n",
              "        <td>None</td>\n",
              "        <td>None</td>\n",
              "        <td>None</td>\n",
              "        <td>None</td>\n",
              "        <td>None</td>\n",
              "        <td>None</td>\n",
              "        <td>None</td>\n",
              "        <td>None</td>\n",
              "        <td>None</td>\n",
              "    </tr>\n",
              "    <tr>\n",
              "        <td>3</td>\n",
              "        <td>758330</td>\n",
              "        <td>JC469467</td>\n",
              "        <td>2019-10-11T23:41:00</td>\n",
              "        <td>2</td>\n",
              "        <td>DRIVER</td>\n",
              "        <td>None</td>\n",
              "        <td>720334</td>\n",
              "        <td>None</td>\n",
              "        <td>SUBARU</td>\n",
              "        <td>FORESTER</td>\n",
              "        <td>IL</td>\n",
              "        <td>2014</td>\n",
              "        <td>6</td>\n",
              "        <td>NONE</td>\n",
              "        <td>PASSENGER</td>\n",
              "        <td>PERSONAL</td>\n",
              "        <td>E</td>\n",
              "        <td>TURNING LEFT</td>\n",
              "        <td>None</td>\n",
              "        <td>None</td>\n",
              "        <td>1</td>\n",
              "        <td>None</td>\n",
              "        <td>None</td>\n",
              "        <td>None</td>\n",
              "        <td>None</td>\n",
              "        <td>1</td>\n",
              "        <td>1</td>\n",
              "        <td>None</td>\n",
              "        <td>None</td>\n",
              "        <td>None</td>\n",
              "        <td>None</td>\n",
              "        <td>None</td>\n",
              "        <td>None</td>\n",
              "        <td>None</td>\n",
              "        <td>None</td>\n",
              "        <td>None</td>\n",
              "        <td>1</td>\n",
              "        <td>None</td>\n",
              "        <td>FRONT</td>\n",
              "        <td>None</td>\n",
              "        <td>None</td>\n",
              "        <td>None</td>\n",
              "        <td>None</td>\n",
              "        <td>None</td>\n",
              "        <td>None</td>\n",
              "        <td>None</td>\n",
              "        <td>None</td>\n",
              "        <td>None</td>\n",
              "        <td>None</td>\n",
              "        <td>None</td>\n",
              "        <td>None</td>\n",
              "        <td>None</td>\n",
              "        <td>None</td>\n",
              "        <td>None</td>\n",
              "        <td>None</td>\n",
              "        <td>None</td>\n",
              "        <td>None</td>\n",
              "        <td>None</td>\n",
              "        <td>None</td>\n",
              "        <td>None</td>\n",
              "        <td>None</td>\n",
              "        <td>None</td>\n",
              "        <td>None</td>\n",
              "        <td>None</td>\n",
              "        <td>None</td>\n",
              "        <td>None</td>\n",
              "        <td>None</td>\n",
              "        <td>None</td>\n",
              "        <td>None</td>\n",
              "        <td>None</td>\n",
              "        <td>None</td>\n",
              "        <td>None</td>\n",
              "    </tr>\n",
              "    <tr>\n",
              "        <td>4</td>\n",
              "        <td>758333</td>\n",
              "        <td>JC469482</td>\n",
              "        <td>2019-10-11T23:20:00</td>\n",
              "        <td>1</td>\n",
              "        <td>DRIVER</td>\n",
              "        <td>None</td>\n",
              "        <td>720328</td>\n",
              "        <td>None</td>\n",
              "        <td>CHEVROLET</td>\n",
              "        <td>IMPALA</td>\n",
              "        <td>IL</td>\n",
              "        <td>2017</td>\n",
              "        <td>3</td>\n",
              "        <td>UNKNOWN</td>\n",
              "        <td>PASSENGER</td>\n",
              "        <td>PERSONAL</td>\n",
              "        <td>N</td>\n",
              "        <td>STRAIGHT AHEAD</td>\n",
              "        <td>None</td>\n",
              "        <td>None</td>\n",
              "        <td>1</td>\n",
              "        <td>None</td>\n",
              "        <td>None</td>\n",
              "        <td>None</td>\n",
              "        <td>None</td>\n",
              "        <td>None</td>\n",
              "        <td>None</td>\n",
              "        <td>None</td>\n",
              "        <td>None</td>\n",
              "        <td>None</td>\n",
              "        <td>None</td>\n",
              "        <td>None</td>\n",
              "        <td>None</td>\n",
              "        <td>None</td>\n",
              "        <td>None</td>\n",
              "        <td>None</td>\n",
              "        <td>None</td>\n",
              "        <td>None</td>\n",
              "        <td>UNKNOWN</td>\n",
              "        <td>None</td>\n",
              "        <td>None</td>\n",
              "        <td>None</td>\n",
              "        <td>None</td>\n",
              "        <td>None</td>\n",
              "        <td>None</td>\n",
              "        <td>None</td>\n",
              "        <td>None</td>\n",
              "        <td>None</td>\n",
              "        <td>None</td>\n",
              "        <td>None</td>\n",
              "        <td>None</td>\n",
              "        <td>None</td>\n",
              "        <td>None</td>\n",
              "        <td>None</td>\n",
              "        <td>None</td>\n",
              "        <td>None</td>\n",
              "        <td>None</td>\n",
              "        <td>None</td>\n",
              "        <td>None</td>\n",
              "        <td>None</td>\n",
              "        <td>None</td>\n",
              "        <td>None</td>\n",
              "        <td>None</td>\n",
              "        <td>None</td>\n",
              "        <td>None</td>\n",
              "        <td>None</td>\n",
              "        <td>None</td>\n",
              "        <td>None</td>\n",
              "        <td>None</td>\n",
              "        <td>None</td>\n",
              "        <td>None</td>\n",
              "        <td>None</td>\n",
              "    </tr>\n",
              "</table>"
            ],
            "text/plain": [
              "[(0, 758369, 'JC469557', '2019-10-12T01:57:00', 1, 'DRIVER', None, 720366, None, 'DODGE', 'NITRO', 'IL', 2011, 9, 'UNKNOWN', 'PASSENGER', 'UNKNOWN/NA', 'W', 'STRAIGHT AHEAD', None, None, 1, None, None, None, None, None, None, None, None, None, None, None, None, None, None, None, 1, None, 'OTHER', None, None, None, None, None, None, None, None, None, None, None, None, None, None, None, None, None, None, None, None, None, None, None, None, None, None, None, None, None, None, None, None, None),\n",
              " (1, 758356, 'JC469523', '2019-10-12T00:30:00', 1, 'DRIVER', None, 720356, None, 'VOLVO', 'XC90', 'IL', 2020, 0, 'NONE', 'SPORT UTILITY VEHICLE (SUV)', 'PERSONAL', 'S', 'SLOW/STOP IN TRAFFIC', None, None, 1, None, None, None, None, None, None, 1, None, None, None, None, None, None, None, None, None, None, 'SIDE-RIGHT', None, None, None, None, None, None, None, None, None, None, None, None, None, None, None, None, None, None, None, None, None, None, None, None, None, None, None, None, None, None, None, None, None),\n",
              " (2, 758329, 'JC469467', '2019-10-11T23:41:00', 1, 'DRIVER', 2.0, 720325, None, 'TOYOTA MOTOR COMPANY, LTD.', 'UNKNOWN', 'IL', 2015, 5, 'NONE', 'PASSENGER', 'PERSONAL', 'E', 'PASSING/OVERTAKING', 1, None, 3, None, 'unknown', 'unknown', None, None, None, 1, 1, 1, 1, 1, None, None, None, None, None, None, 'REAR', None, None, None, None, None, None, None, None, None, None, None, None, None, None, None, None, None, None, None, None, None, None, None, None, None, None, None, None, None, None, None, None, None),\n",
              " (3, 758330, 'JC469467', '2019-10-11T23:41:00', 2, 'DRIVER', None, 720334, None, 'SUBARU', 'FORESTER', 'IL', 2014, 6, 'NONE', 'PASSENGER', 'PERSONAL', 'E', 'TURNING LEFT', None, None, 1, None, None, None, None, 1, 1, None, None, None, None, None, None, None, None, None, 1, None, 'FRONT', None, None, None, None, None, None, None, None, None, None, None, None, None, None, None, None, None, None, None, None, None, None, None, None, None, None, None, None, None, None, None, None, None),\n",
              " (4, 758333, 'JC469482', '2019-10-11T23:20:00', 1, 'DRIVER', None, 720328, None, 'CHEVROLET', 'IMPALA', 'IL', 2017, 3, 'UNKNOWN', 'PASSENGER', 'PERSONAL', 'N', 'STRAIGHT AHEAD', None, None, 1, None, None, None, None, None, None, None, None, None, None, None, None, None, None, None, None, None, 'UNKNOWN', None, None, None, None, None, None, None, None, None, None, None, None, None, None, None, None, None, None, None, None, None, None, None, None, None, None, None, None, None, None, None, None, None)]"
            ]
          },
          "metadata": {
            "tags": []
          },
          "execution_count": 61
        }
      ]
    },
    {
      "cell_type": "code",
      "metadata": {
        "id": "Qbg5557D2mo-",
        "colab_type": "code",
        "colab": {
          "base_uri": "https://localhost:8080/",
          "height": 177
        },
        "outputId": "5faa85e3-126d-457b-e134-006f253c9358"
      },
      "source": [
        "# 1. Display a list of 5 makes that had the highest number of crashes?\n",
        "\n",
        "%sql SELECT make, model, count(make) FROM accidents GROUP BY make ORDER BY count(make) desc LIMIT 5;"
      ],
      "execution_count": null,
      "outputs": [
        {
          "output_type": "stream",
          "text": [
            " * sqlite://\n",
            "Done.\n"
          ],
          "name": "stdout"
        },
        {
          "output_type": "execute_result",
          "data": {
            "text/html": [
              "<table>\n",
              "    <tr>\n",
              "        <th>make</th>\n",
              "        <th>model</th>\n",
              "        <th>count(make)</th>\n",
              "    </tr>\n",
              "    <tr>\n",
              "        <td>TOYOTA MOTOR COMPANY, LTD.</td>\n",
              "        <td>COROLLA</td>\n",
              "        <td>637</td>\n",
              "    </tr>\n",
              "    <tr>\n",
              "        <td>CHEVROLET</td>\n",
              "        <td>CRUZE</td>\n",
              "        <td>572</td>\n",
              "    </tr>\n",
              "    <tr>\n",
              "        <td>FORD</td>\n",
              "        <td>FUSION</td>\n",
              "        <td>565</td>\n",
              "    </tr>\n",
              "    <tr>\n",
              "        <td>NISSAN</td>\n",
              "        <td>NISSAN ALTIMA</td>\n",
              "        <td>491</td>\n",
              "    </tr>\n",
              "    <tr>\n",
              "        <td>HONDA</td>\n",
              "        <td>Odyssey (minivan)</td>\n",
              "        <td>369</td>\n",
              "    </tr>\n",
              "</table>"
            ],
            "text/plain": [
              "[('TOYOTA MOTOR COMPANY, LTD.', 'COROLLA', 637),\n",
              " ('CHEVROLET', 'CRUZE', 572),\n",
              " ('FORD', 'FUSION', 565),\n",
              " ('NISSAN', 'NISSAN ALTIMA', 491),\n",
              " ('HONDA', 'Odyssey (minivan)', 369)]"
            ]
          },
          "metadata": {
            "tags": []
          },
          "execution_count": 92
        }
      ]
    },
    {
      "cell_type": "markdown",
      "metadata": {
        "id": "O0aMGDaoQ4IN",
        "colab_type": "text"
      },
      "source": [
        "The list of the 5 makes that had the highest number of crashes is topped by Toyota Motor, most likely because it has the most cars on the roads followed by chevrolet, Ford, Nissan and Honda respectively."
      ]
    },
    {
      "cell_type": "code",
      "metadata": {
        "id": "Q3QM0qWZ4anW",
        "colab_type": "code",
        "cellView": "code",
        "colab": {
          "base_uri": "https://localhost:8080/",
          "height": 95
        },
        "outputId": "2a44b591-f4ab-4c72-bfdd-39b3a8476db6"
      },
      "source": [
        "#@title Default title text\n",
        "# 2. Most personal vehicles involved in crashes were travelling towards which direction?\n",
        "\n",
        "%sql SELECT MAX(\"travel_direction\"), count(\"travel_direction\") FROM accidents WHERE (\"vehicle_use\") = \"PERSONAL\""
      ],
      "execution_count": null,
      "outputs": [
        {
          "output_type": "stream",
          "text": [
            " * sqlite://\n",
            "Done.\n"
          ],
          "name": "stdout"
        },
        {
          "output_type": "execute_result",
          "data": {
            "text/html": [
              "<table>\n",
              "    <tr>\n",
              "        <th>MAX(&quot;travel_direction&quot;)</th>\n",
              "        <th>count(&quot;travel_direction&quot;)</th>\n",
              "    </tr>\n",
              "    <tr>\n",
              "        <td>W</td>\n",
              "        <td>3562</td>\n",
              "    </tr>\n",
              "</table>"
            ],
            "text/plain": [
              "[('W', 3562)]"
            ]
          },
          "metadata": {
            "tags": []
          },
          "execution_count": 80
        }
      ]
    },
    {
      "cell_type": "markdown",
      "metadata": {
        "id": "bUytZbmrSoQp",
        "colab_type": "text"
      },
      "source": [
        "Most of the personal vehicles that were involved in crashes were travelling to the West, most likely on the same highway."
      ]
    },
    {
      "cell_type": "code",
      "metadata": {
        "id": "2qzBVVBV7R37",
        "colab_type": "code",
        "colab": {
          "base_uri": "https://localhost:8080/",
          "height": 95
        },
        "outputId": "08fcbcb9-f056-4c08-e068-6016c31c28e3"
      },
      "source": [
        "# 3. How many passengers were involved in personal cars were in accidents?\n",
        "\n",
        "%sql SELECT \"vehicle_use\", count(\"occupant_cnt\") FROM accidents WHERE (\"vehicle_use\") = \"PERSONAL\""
      ],
      "execution_count": null,
      "outputs": [
        {
          "output_type": "stream",
          "text": [
            " * sqlite://\n",
            "Done.\n"
          ],
          "name": "stdout"
        },
        {
          "output_type": "execute_result",
          "data": {
            "text/html": [
              "<table>\n",
              "    <tr>\n",
              "        <th>vehicle_use</th>\n",
              "        <th>count(&quot;occupant_cnt&quot;)</th>\n",
              "    </tr>\n",
              "    <tr>\n",
              "        <td>PERSONAL</td>\n",
              "        <td>3562</td>\n",
              "    </tr>\n",
              "</table>"
            ],
            "text/plain": [
              "[('PERSONAL', 3562)]"
            ]
          },
          "metadata": {
            "tags": []
          },
          "execution_count": 81
        }
      ]
    },
    {
      "cell_type": "markdown",
      "metadata": {
        "id": "xdfEZ-zdWZqm",
        "colab_type": "text"
      },
      "source": [
        "A total of 3562 passengers in personal cars and travelling to the west were involved in accidents."
      ]
    },
    {
      "cell_type": "code",
      "metadata": {
        "id": "PnJszAAP8eju",
        "colab_type": "code",
        "colab": {
          "base_uri": "https://localhost:8080/",
          "height": 95
        },
        "outputId": "907eea8e-8cd3-4dc7-fcdf-b64de5817722"
      },
      "source": [
        "# 4. How many passengers were involved in accidents while travelling in personal Sport Utility vehicles?\n",
        "\n",
        "%sql SELECT \"vehicle_type\", count(\"occupant_cnt\") FROM accidents WHERE (\"vehicle_use\") = \"PERSONAL\" AND (\"vehicle_type\") = \t\"SPORT UTILITY VEHICLE (SUV)\""
      ],
      "execution_count": null,
      "outputs": [
        {
          "output_type": "stream",
          "text": [
            " * sqlite://\n",
            "Done.\n"
          ],
          "name": "stdout"
        },
        {
          "output_type": "execute_result",
          "data": {
            "text/html": [
              "<table>\n",
              "    <tr>\n",
              "        <th>vehicle_type</th>\n",
              "        <th>count(&quot;occupant_cnt&quot;)</th>\n",
              "    </tr>\n",
              "    <tr>\n",
              "        <td>SPORT UTILITY VEHICLE (SUV)</td>\n",
              "        <td>529</td>\n",
              "    </tr>\n",
              "</table>"
            ],
            "text/plain": [
              "[('SPORT UTILITY VEHICLE (SUV)', 529)]"
            ]
          },
          "metadata": {
            "tags": []
          },
          "execution_count": 86
        }
      ]
    },
    {
      "cell_type": "markdown",
      "metadata": {
        "id": "hqT_rXuzW4Aw",
        "colab_type": "text"
      },
      "source": [
        "A total of 529 passengers travelling in personal Sport Utility vehicles were involved in accidents."
      ]
    },
    {
      "cell_type": "code",
      "metadata": {
        "id": "5HfOdiuD9bJB",
        "colab_type": "code",
        "colab": {
          "base_uri": "https://localhost:8080/",
          "height": 95
        },
        "outputId": "831dea6b-9c47-4c90-d1e4-9d19f7fcb640"
      },
      "source": [
        "# 5. Compute the total number of Mercedez-Benz vehicles involved in accidents while being parked.\n",
        "\n",
        "%sql SELECT count(\"MERCEDES-BENZ\"), maneuver FROM accidents WHERE maneuver = \"PARKED\""
      ],
      "execution_count": null,
      "outputs": [
        {
          "output_type": "stream",
          "text": [
            " * sqlite://\n",
            "Done.\n"
          ],
          "name": "stdout"
        },
        {
          "output_type": "execute_result",
          "data": {
            "text/html": [
              "<table>\n",
              "    <tr>\n",
              "        <th>count(&quot;MERCEDES-BENZ&quot;)</th>\n",
              "        <th>maneuver</th>\n",
              "    </tr>\n",
              "    <tr>\n",
              "        <td>708</td>\n",
              "        <td>PARKED</td>\n",
              "    </tr>\n",
              "</table>"
            ],
            "text/plain": [
              "[(708, 'PARKED')]"
            ]
          },
          "metadata": {
            "tags": []
          },
          "execution_count": 83
        }
      ]
    },
    {
      "cell_type": "markdown",
      "metadata": {
        "id": "W2pjASuyXHnW",
        "colab_type": "text"
      },
      "source": [
        "708 mercedes-benz cars were involved in accidents while they were parked."
      ]
    },
    {
      "cell_type": "code",
      "metadata": {
        "id": "ysBTNj7i_zQM",
        "colab_type": "code",
        "colab": {
          "base_uri": "https://localhost:8080/",
          "height": 95
        },
        "outputId": "2f532a0a-4793-47de-957a-69f1c7578016"
      },
      "source": [
        "# 6. Compute the total occupant count per vehicle count.\n",
        "\n",
        "%sql SELECT SUM(\"occupant_cnt\"), count(\"crash_unit_id\") FROM accidents"
      ],
      "execution_count": null,
      "outputs": [
        {
          "output_type": "stream",
          "text": [
            " * sqlite://\n",
            "Done.\n"
          ],
          "name": "stdout"
        },
        {
          "output_type": "execute_result",
          "data": {
            "text/html": [
              "<table>\n",
              "    <tr>\n",
              "        <th>SUM(&quot;occupant_cnt&quot;)</th>\n",
              "        <th>count(&quot;crash_unit_id&quot;)</th>\n",
              "    </tr>\n",
              "    <tr>\n",
              "        <td>5671</td>\n",
              "        <td>5040</td>\n",
              "    </tr>\n",
              "</table>"
            ],
            "text/plain": [
              "[(5671, 5040)]"
            ]
          },
          "metadata": {
            "tags": []
          },
          "execution_count": 93
        }
      ]
    },
    {
      "cell_type": "markdown",
      "metadata": {
        "id": "Iv8QlfvuXbf-",
        "colab_type": "text"
      },
      "source": [
        "In all the accidents which occured, there were 5040 different accidents which occured with 5671 passagers involved in these accidents."
      ]
    },
    {
      "cell_type": "code",
      "metadata": {
        "id": "aPJ0G78OAJUv",
        "colab_type": "code",
        "colab": {
          "base_uri": "https://localhost:8080/",
          "height": 259
        },
        "outputId": "9127735e-eb60-4e39-d5d6-5bd0eb511af9"
      },
      "source": [
        "# 7. Sort the number of passengers in descending order by travel direction taking into account travel direction. Return travel direction and no. of passengers.\n",
        "\n",
        "%sql SELECT \"travel_direction\", SUM(\"occupant_cnt\") FROM accidents  GROUP BY \"travel_direction\" ORDER BY SUM(\"occupant_cnt\") DESC;"
      ],
      "execution_count": null,
      "outputs": [
        {
          "output_type": "stream",
          "text": [
            " * sqlite://\n",
            "Done.\n"
          ],
          "name": "stdout"
        },
        {
          "output_type": "execute_result",
          "data": {
            "text/html": [
              "<table>\n",
              "    <tr>\n",
              "        <th>travel_direction</th>\n",
              "        <th>SUM(&quot;occupant_cnt&quot;)</th>\n",
              "    </tr>\n",
              "    <tr>\n",
              "        <td>N</td>\n",
              "        <td>1405</td>\n",
              "    </tr>\n",
              "    <tr>\n",
              "        <td>W</td>\n",
              "        <td>1325</td>\n",
              "    </tr>\n",
              "    <tr>\n",
              "        <td>S</td>\n",
              "        <td>1316</td>\n",
              "    </tr>\n",
              "    <tr>\n",
              "        <td>E</td>\n",
              "        <td>1219</td>\n",
              "    </tr>\n",
              "    <tr>\n",
              "        <td>UNKNOWN</td>\n",
              "        <td>118</td>\n",
              "    </tr>\n",
              "    <tr>\n",
              "        <td>SE</td>\n",
              "        <td>92</td>\n",
              "    </tr>\n",
              "    <tr>\n",
              "        <td>NW</td>\n",
              "        <td>83</td>\n",
              "    </tr>\n",
              "    <tr>\n",
              "        <td>SW</td>\n",
              "        <td>65</td>\n",
              "    </tr>\n",
              "    <tr>\n",
              "        <td>NE</td>\n",
              "        <td>48</td>\n",
              "    </tr>\n",
              "</table>"
            ],
            "text/plain": [
              "[('N', 1405),\n",
              " ('W', 1325),\n",
              " ('S', 1316),\n",
              " ('E', 1219),\n",
              " ('UNKNOWN', 118),\n",
              " ('SE', 92),\n",
              " ('NW', 83),\n",
              " ('SW', 65),\n",
              " ('NE', 48)]"
            ]
          },
          "metadata": {
            "tags": []
          },
          "execution_count": 88
        }
      ]
    },
    {
      "cell_type": "markdown",
      "metadata": {
        "id": "XubTpDayYD6H",
        "colab_type": "text"
      },
      "source": [
        "Most of the passengers (1405) who were involved in road traffic accidents were travelling to the northern direction followed by the west with 1325 passengers and the South with 1316 passengers."
      ]
    },
    {
      "cell_type": "code",
      "metadata": {
        "id": "IcGuJFF1CrvE",
        "colab_type": "code",
        "colab": {
          "base_uri": "https://localhost:8080/",
          "height": 177
        },
        "outputId": "1ec15142-de29-4bf4-e398-d40d813a14c1"
      },
      "source": [
        "# 8. Select top 5 vehicle models involved in the accident with no defect, order them by make and show their manoeuvre. \n",
        "\n",
        "%sql SELECT model, maneuver, count(\"model\") FROM accidents WHERE \"vehicle_defect\" = \"NONE\" GROUP BY \"model\" ORDER BY count(\"model\") DESC LIMIT 5"
      ],
      "execution_count": null,
      "outputs": [
        {
          "output_type": "stream",
          "text": [
            " * sqlite://\n",
            "Done.\n"
          ],
          "name": "stdout"
        },
        {
          "output_type": "execute_result",
          "data": {
            "text/html": [
              "<table>\n",
              "    <tr>\n",
              "        <th>model</th>\n",
              "        <th>maneuver</th>\n",
              "        <th>count(&quot;model&quot;)</th>\n",
              "    </tr>\n",
              "    <tr>\n",
              "        <td>UNKNOWN</td>\n",
              "        <td>STRAIGHT AHEAD</td>\n",
              "        <td>403</td>\n",
              "    </tr>\n",
              "    <tr>\n",
              "        <td>CAMRY</td>\n",
              "        <td>TURNING RIGHT</td>\n",
              "        <td>135</td>\n",
              "    </tr>\n",
              "    <tr>\n",
              "        <td>NISSAN ALTIMA</td>\n",
              "        <td>SLOW/STOP IN TRAFFIC</td>\n",
              "        <td>82</td>\n",
              "    </tr>\n",
              "    <tr>\n",
              "        <td>SENTRA (DATSUN AND NISSAN HAVE MERGED)</td>\n",
              "        <td>STRAIGHT AHEAD</td>\n",
              "        <td>72</td>\n",
              "    </tr>\n",
              "    <tr>\n",
              "        <td>MALIBU (CHEVELLE)</td>\n",
              "        <td>PARKED</td>\n",
              "        <td>69</td>\n",
              "    </tr>\n",
              "</table>"
            ],
            "text/plain": [
              "[('UNKNOWN', 'STRAIGHT AHEAD', 403),\n",
              " ('CAMRY', 'TURNING RIGHT', 135),\n",
              " ('NISSAN ALTIMA', 'SLOW/STOP IN TRAFFIC', 82),\n",
              " ('SENTRA (DATSUN AND NISSAN HAVE MERGED)', 'STRAIGHT AHEAD', 72),\n",
              " ('MALIBU (CHEVELLE)', 'PARKED', 69)]"
            ]
          },
          "metadata": {
            "tags": []
          },
          "execution_count": 89
        }
      ]
    },
    {
      "cell_type": "markdown",
      "metadata": {
        "id": "dg3Xw5tmZOxU",
        "colab_type": "text"
      },
      "source": [
        "403 vehicles of unknown model were involved in road accidents while travelling straight ahead, they didn't have any defects and they drove away which is why their models are unknown, these are followed by 135 incidents of Camrys which were turning right, 82 Nissan Altimas which were slow/ coming to a stop indicating an existing defect with their braking systems, 72 sentra's travelling strainght ahead and lastly 69 malibu(chevelle) which were parked."
      ]
    },
    {
      "cell_type": "code",
      "metadata": {
        "id": "_nrGo9a7GAX6",
        "colab_type": "code",
        "colab": {
          "base_uri": "https://localhost:8080/",
          "height": 974
        },
        "outputId": "45b1e7ec-fa4a-41a0-bbf5-58fb4f514d0f"
      },
      "source": [
        "# 9. Which ridesharing vehicles in an accident had the most number of passengers? Return model, and no of passengers.\n",
        "\n",
        "%sql SELECT model, SUM(\"occupant_cnt\") FROM accidents WHERE \"vehicle_use\" = \"RIDESHARE SERVICE\" GROUP BY model ORDER BY SUM(\"occupant_cnt\") DESC"
      ],
      "execution_count": null,
      "outputs": [
        {
          "output_type": "stream",
          "text": [
            " * sqlite://\n",
            "Done.\n"
          ],
          "name": "stdout"
        },
        {
          "output_type": "execute_result",
          "data": {
            "text/html": [
              "<table>\n",
              "    <tr>\n",
              "        <th>model</th>\n",
              "        <th>SUM(&quot;occupant_cnt&quot;)</th>\n",
              "    </tr>\n",
              "    <tr>\n",
              "        <td>Prius</td>\n",
              "        <td>11</td>\n",
              "    </tr>\n",
              "    <tr>\n",
              "        <td>UNKNOWN</td>\n",
              "        <td>10</td>\n",
              "    </tr>\n",
              "    <tr>\n",
              "        <td>CAMRY</td>\n",
              "        <td>9</td>\n",
              "    </tr>\n",
              "    <tr>\n",
              "        <td>COROLLA</td>\n",
              "        <td>9</td>\n",
              "    </tr>\n",
              "    <tr>\n",
              "        <td>NISSAN ALTIMA</td>\n",
              "        <td>9</td>\n",
              "    </tr>\n",
              "    <tr>\n",
              "        <td>MKZ</td>\n",
              "        <td>8</td>\n",
              "    </tr>\n",
              "    <tr>\n",
              "        <td>ROGUE</td>\n",
              "        <td>7</td>\n",
              "    </tr>\n",
              "    <tr>\n",
              "        <td>MALIBU (CHEVELLE)</td>\n",
              "        <td>5</td>\n",
              "    </tr>\n",
              "    <tr>\n",
              "        <td>PASSAT</td>\n",
              "        <td>5</td>\n",
              "    </tr>\n",
              "    <tr>\n",
              "        <td>FUSION</td>\n",
              "        <td>4</td>\n",
              "    </tr>\n",
              "    <tr>\n",
              "        <td>JETTA</td>\n",
              "        <td>4</td>\n",
              "    </tr>\n",
              "    <tr>\n",
              "        <td>SENTRA (DATSUN AND NISSAN HAVE MERGED)</td>\n",
              "        <td>4</td>\n",
              "    </tr>\n",
              "    <tr>\n",
              "        <td>SONATA</td>\n",
              "        <td>4</td>\n",
              "    </tr>\n",
              "    <tr>\n",
              "        <td>Aveo</td>\n",
              "        <td>3</td>\n",
              "    </tr>\n",
              "    <tr>\n",
              "        <td>C300</td>\n",
              "        <td>3</td>\n",
              "    </tr>\n",
              "    <tr>\n",
              "        <td>FORTE</td>\n",
              "        <td>3</td>\n",
              "    </tr>\n",
              "    <tr>\n",
              "        <td>Focus</td>\n",
              "        <td>3</td>\n",
              "    </tr>\n",
              "    <tr>\n",
              "        <td>Outlander</td>\n",
              "        <td>3</td>\n",
              "    </tr>\n",
              "    <tr>\n",
              "        <td>RX350</td>\n",
              "        <td>3</td>\n",
              "    </tr>\n",
              "    <tr>\n",
              "        <td>SOUL</td>\n",
              "        <td>3</td>\n",
              "    </tr>\n",
              "    <tr>\n",
              "        <td>Accent</td>\n",
              "        <td>2</td>\n",
              "    </tr>\n",
              "    <tr>\n",
              "        <td>CARAVAN</td>\n",
              "        <td>2</td>\n",
              "    </tr>\n",
              "    <tr>\n",
              "        <td>CIVIC</td>\n",
              "        <td>2</td>\n",
              "    </tr>\n",
              "    <tr>\n",
              "        <td>CRUZE</td>\n",
              "        <td>2</td>\n",
              "    </tr>\n",
              "    <tr>\n",
              "        <td>ELANTRA</td>\n",
              "        <td>2</td>\n",
              "    </tr>\n",
              "    <tr>\n",
              "        <td>ES300</td>\n",
              "        <td>2</td>\n",
              "    </tr>\n",
              "    <tr>\n",
              "        <td>GENESIS</td>\n",
              "        <td>2</td>\n",
              "    </tr>\n",
              "    <tr>\n",
              "        <td>Highlander(beginning vehicle year 2001)</td>\n",
              "        <td>2</td>\n",
              "    </tr>\n",
              "    <tr>\n",
              "        <td>JOURNEY</td>\n",
              "        <td>2</td>\n",
              "    </tr>\n",
              "    <tr>\n",
              "        <td>MDX</td>\n",
              "        <td>2</td>\n",
              "    </tr>\n",
              "    <tr>\n",
              "        <td>MKT</td>\n",
              "        <td>2</td>\n",
              "    </tr>\n",
              "    <tr>\n",
              "        <td>TUCSON</td>\n",
              "        <td>2</td>\n",
              "    </tr>\n",
              "    <tr>\n",
              "        <td>323</td>\n",
              "        <td>1</td>\n",
              "    </tr>\n",
              "    <tr>\n",
              "        <td>ACURA</td>\n",
              "        <td>1</td>\n",
              "    </tr>\n",
              "    <tr>\n",
              "        <td>CRV</td>\n",
              "        <td>1</td>\n",
              "    </tr>\n",
              "    <tr>\n",
              "        <td>FORD</td>\n",
              "        <td>1</td>\n",
              "    </tr>\n",
              "    <tr>\n",
              "        <td>GRAND MARQUIS</td>\n",
              "        <td>1</td>\n",
              "    </tr>\n",
              "    <tr>\n",
              "        <td>Grand Cherokee (for vehicle years 1989 to present)</td>\n",
              "        <td>1</td>\n",
              "    </tr>\n",
              "    <tr>\n",
              "        <td>Mazda 3</td>\n",
              "        <td>1</td>\n",
              "    </tr>\n",
              "    <tr>\n",
              "        <td>Murano</td>\n",
              "        <td>1</td>\n",
              "    </tr>\n",
              "    <tr>\n",
              "        <td>NAVIGATOR</td>\n",
              "        <td>1</td>\n",
              "    </tr>\n",
              "    <tr>\n",
              "        <td>S90</td>\n",
              "        <td>1</td>\n",
              "    </tr>\n",
              "    <tr>\n",
              "        <td>SORENTO</td>\n",
              "        <td>1</td>\n",
              "    </tr>\n",
              "    <tr>\n",
              "        <td>ACCORD</td>\n",
              "        <td>0</td>\n",
              "    </tr>\n",
              "</table>"
            ],
            "text/plain": [
              "[('Prius', 11),\n",
              " ('UNKNOWN', 10),\n",
              " ('CAMRY', 9),\n",
              " ('COROLLA', 9),\n",
              " ('NISSAN ALTIMA', 9),\n",
              " ('MKZ', 8),\n",
              " ('ROGUE', 7),\n",
              " ('MALIBU (CHEVELLE)', 5),\n",
              " ('PASSAT', 5),\n",
              " ('FUSION', 4),\n",
              " ('JETTA', 4),\n",
              " ('SENTRA (DATSUN AND NISSAN HAVE MERGED)', 4),\n",
              " ('SONATA', 4),\n",
              " ('Aveo', 3),\n",
              " ('C300', 3),\n",
              " ('FORTE', 3),\n",
              " ('Focus', 3),\n",
              " ('Outlander', 3),\n",
              " ('RX350', 3),\n",
              " ('SOUL', 3),\n",
              " ('Accent', 2),\n",
              " ('CARAVAN', 2),\n",
              " ('CIVIC', 2),\n",
              " ('CRUZE', 2),\n",
              " ('ELANTRA', 2),\n",
              " ('ES300', 2),\n",
              " ('GENESIS', 2),\n",
              " ('Highlander(beginning vehicle year 2001)', 2),\n",
              " ('JOURNEY', 2),\n",
              " ('MDX', 2),\n",
              " ('MKT', 2),\n",
              " ('TUCSON', 2),\n",
              " ('323', 1),\n",
              " ('ACURA', 1),\n",
              " ('CRV', 1),\n",
              " ('FORD', 1),\n",
              " ('GRAND MARQUIS', 1),\n",
              " ('Grand Cherokee (for vehicle years 1989 to present)', 1),\n",
              " ('Mazda 3', 1),\n",
              " ('Murano', 1),\n",
              " ('NAVIGATOR', 1),\n",
              " ('S90', 1),\n",
              " ('SORENTO', 1),\n",
              " ('ACCORD', 0)]"
            ]
          },
          "metadata": {
            "tags": []
          },
          "execution_count": 94
        }
      ]
    },
    {
      "cell_type": "markdown",
      "metadata": {
        "id": "wI9yGqBJapyf",
        "colab_type": "text"
      },
      "source": [
        "The prius is the number one ride sharing vehicle that had the most number of pasengers which was involved in an accident, followed by several unknown models and the Camry came third."
      ]
    }
  ]
}